{
 "cells": [
  {
   "attachments": {},
   "cell_type": "markdown",
   "metadata": {},
   "source": [
    "Preprocessing Anime dataset from Kaggle"
   ]
  },
  {
   "cell_type": "code",
   "execution_count": 17,
   "metadata": {},
   "outputs": [],
   "source": [
    "from collections import defaultdict\n",
    "import pandas as pd\n",
    "import numpy as np\n",
    "import sklearn as sk\n",
    "import matplotlib as plt"
   ]
  },
  {
   "attachments": {},
   "cell_type": "markdown",
   "metadata": {},
   "source": [
    "Data preprocessing: cleaning initial dataset to remove unwanted entries and columns"
   ]
  },
  {
   "cell_type": "code",
   "execution_count": 22,
   "metadata": {},
   "outputs": [
    {
     "name": "stdout",
     "output_type": "stream",
     "text": [
      "6337241\n"
     ]
    }
   ],
   "source": [
    "anime_df = pd.read_csv(\"anime.csv\")\n",
    "anime_df.drop(columns=[\"members\"], axis = 1, inplace = True)\n",
    "\n",
    "# remove entries where user has not rated an anime (indicated by a -1 in the rating column)\n",
    "user_ratings_df = pd.read_csv(\"rating.csv\")\n",
    "user_ratings_df = user_ratings_df[user_ratings_df.rating != -1]\n",
    "user_ratings_df.head(10)\n",
    "print(len(user_ratings_df))\n",
    "#testing testing\n",
    "#testing testing\n",
    "#testing testing\n",
    "#testing testing\n",
    "#testing testing\n",
    "#testing testing\n",
    "#testing testing\n",
    "#testing testing\n",
    "#testing testing"
   ]
  }
 ],
 "metadata": {
  "kernelspec": {
   "display_name": "ML",
   "language": "python",
   "name": "python3"
  },
  "language_info": {
   "codemirror_mode": {
    "name": "ipython",
    "version": 3
   },
   "file_extension": ".py",
   "mimetype": "text/x-python",
   "name": "python",
   "nbconvert_exporter": "python",
   "pygments_lexer": "ipython3",
   "version": "3.9.16"
  },
  "orig_nbformat": 4,
  "vscode": {
   "interpreter": {
    "hash": "bd13d575caf8b70215954cabbb125610f9a3fd956dffe94b396ea02dd8e04b1c"
   }
  }
 },
 "nbformat": 4,
 "nbformat_minor": 2
}
