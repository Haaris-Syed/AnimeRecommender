{
 "cells": [
  {
   "attachments": {},
   "cell_type": "markdown",
   "metadata": {},
   "source": [
    "Preprocessing Anime dataset from Kaggle"
   ]
  },
  {
   "cell_type": "code",
   "execution_count": 1,
   "metadata": {},
   "outputs": [],
   "source": [
    "from collections import defaultdict\n",
    "import pandas as pd\n",
    "import numpy as np\n",
    "import sklearn as sk\n",
    "from sklearn.feature_extraction.text import TfidfVectorizer\n",
    "from sklearn.metrics.pairwise import cosine_similarity, linear_kernel\n",
    "import matplotlib.pyplot as plt\n",
    "import re\n",
    "import string"
   ]
  },
  {
   "attachments": {},
   "cell_type": "markdown",
   "metadata": {},
   "source": [
    "1. Data preprocessing"
   ]
  },
  {
   "attachments": {},
   "cell_type": "markdown",
   "metadata": {},
   "source": [
    "1.1 Data Cleaning"
   ]
  },
  {
   "cell_type": "code",
   "execution_count": 2,
   "metadata": {},
   "outputs": [
    {
     "data": {
      "text/html": [
       "<div>\n",
       "<style scoped>\n",
       "    .dataframe tbody tr th:only-of-type {\n",
       "        vertical-align: middle;\n",
       "    }\n",
       "\n",
       "    .dataframe tbody tr th {\n",
       "        vertical-align: top;\n",
       "    }\n",
       "\n",
       "    .dataframe thead th {\n",
       "        text-align: right;\n",
       "    }\n",
       "</style>\n",
       "<table border=\"1\" class=\"dataframe\">\n",
       "  <thead>\n",
       "    <tr style=\"text-align: right;\">\n",
       "      <th></th>\n",
       "      <th>uid</th>\n",
       "      <th>name</th>\n",
       "      <th>synopsis</th>\n",
       "      <th>genre</th>\n",
       "      <th>episodes</th>\n",
       "      <th>members</th>\n",
       "      <th>popularity</th>\n",
       "      <th>score</th>\n",
       "    </tr>\n",
       "  </thead>\n",
       "  <tbody>\n",
       "    <tr>\n",
       "      <th>0</th>\n",
       "      <td>28891</td>\n",
       "      <td>Haikyuu Second Season</td>\n",
       "      <td>Following their participation at the Inter-Hig...</td>\n",
       "      <td>['Comedy', 'Sports', 'Drama', 'School', 'Shoun...</td>\n",
       "      <td>25.0</td>\n",
       "      <td>489888</td>\n",
       "      <td>141</td>\n",
       "      <td>8.82</td>\n",
       "    </tr>\n",
       "    <tr>\n",
       "      <th>1</th>\n",
       "      <td>23273</td>\n",
       "      <td>Shigatsu wa Kimi no Uso</td>\n",
       "      <td>Music accompanies the path of the human metron...</td>\n",
       "      <td>['Drama', 'Music', 'Romance', 'School', 'Shoun...</td>\n",
       "      <td>22.0</td>\n",
       "      <td>995473</td>\n",
       "      <td>28</td>\n",
       "      <td>8.83</td>\n",
       "    </tr>\n",
       "    <tr>\n",
       "      <th>2</th>\n",
       "      <td>34599</td>\n",
       "      <td>Made in Abyss</td>\n",
       "      <td>The Abyss—a gaping chasm stretching down into ...</td>\n",
       "      <td>['Sci-Fi', 'Adventure', 'Mystery', 'Drama', 'F...</td>\n",
       "      <td>13.0</td>\n",
       "      <td>581663</td>\n",
       "      <td>98</td>\n",
       "      <td>8.83</td>\n",
       "    </tr>\n",
       "    <tr>\n",
       "      <th>3</th>\n",
       "      <td>5114</td>\n",
       "      <td>Fullmetal Alchemist Brotherhood</td>\n",
       "      <td>\"In order for something to be obtained, someth...</td>\n",
       "      <td>['Action', 'Military', 'Adventure', 'Comedy', ...</td>\n",
       "      <td>64.0</td>\n",
       "      <td>1615084</td>\n",
       "      <td>4</td>\n",
       "      <td>9.23</td>\n",
       "    </tr>\n",
       "    <tr>\n",
       "      <th>4</th>\n",
       "      <td>31758</td>\n",
       "      <td>Kizumonogatari III Reiketsuhen</td>\n",
       "      <td>After helping revive the legendary vampire Kis...</td>\n",
       "      <td>['Action', 'Mystery', 'Supernatural', 'Vampire']</td>\n",
       "      <td>1.0</td>\n",
       "      <td>214621</td>\n",
       "      <td>502</td>\n",
       "      <td>8.83</td>\n",
       "    </tr>\n",
       "  </tbody>\n",
       "</table>\n",
       "</div>"
      ],
      "text/plain": [
       "     uid                             name  \\\n",
       "0  28891            Haikyuu Second Season   \n",
       "1  23273          Shigatsu wa Kimi no Uso   \n",
       "2  34599                    Made in Abyss   \n",
       "3   5114  Fullmetal Alchemist Brotherhood   \n",
       "4  31758   Kizumonogatari III Reiketsuhen   \n",
       "\n",
       "                                            synopsis  \\\n",
       "0  Following their participation at the Inter-Hig...   \n",
       "1  Music accompanies the path of the human metron...   \n",
       "2  The Abyss—a gaping chasm stretching down into ...   \n",
       "3  \"In order for something to be obtained, someth...   \n",
       "4  After helping revive the legendary vampire Kis...   \n",
       "\n",
       "                                               genre  episodes  members  \\\n",
       "0  ['Comedy', 'Sports', 'Drama', 'School', 'Shoun...      25.0   489888   \n",
       "1  ['Drama', 'Music', 'Romance', 'School', 'Shoun...      22.0   995473   \n",
       "2  ['Sci-Fi', 'Adventure', 'Mystery', 'Drama', 'F...      13.0   581663   \n",
       "3  ['Action', 'Military', 'Adventure', 'Comedy', ...      64.0  1615084   \n",
       "4   ['Action', 'Mystery', 'Supernatural', 'Vampire']       1.0   214621   \n",
       "\n",
       "   popularity  score  \n",
       "0         141   8.82  \n",
       "1          28   8.83  \n",
       "2          98   8.83  \n",
       "3           4   9.23  \n",
       "4         502   8.83  "
      ]
     },
     "execution_count": 2,
     "metadata": {},
     "output_type": "execute_result"
    }
   ],
   "source": [
    "# remove unwanted features (columns) from the dataset\n",
    "anime_df = pd.read_csv(\"animes.csv\")\n",
    "anime_df.rename(columns={'title': 'name'}, inplace=True)\n",
    "anime_df.drop(['aired', 'ranked', 'img_url', 'link'], axis=1, inplace=True)\n",
    "\n",
    "#removing unwanted characters from the anime name strings\n",
    "def text_cleaning(text):\n",
    "    text = re.sub(r'&quot;', '', text)\n",
    "    text  = \"\".join([char for char in text if char not in string.punctuation])\n",
    "    text = re.sub(r'.hack//', '', text)\n",
    "    text = re.sub(r'&#039;', '', text)\n",
    "    text = re.sub(r'A&#039;s', '', text)\n",
    "    text = re.sub(r'I&#039;', 'I\\'', text)\n",
    "    text = re.sub(r'&amp;', 'and', text)\n",
    "    text = re.sub(r'Â°', '',text)\n",
    "\n",
    "    return text\n",
    "\n",
    "anime_df['name'] = anime_df['name'].apply(text_cleaning)\n",
    "anime_df.head(5)"
   ]
  },
  {
   "cell_type": "code",
   "execution_count": 3,
   "metadata": {},
   "outputs": [
    {
     "data": {
      "text/html": [
       "<div>\n",
       "<style scoped>\n",
       "    .dataframe tbody tr th:only-of-type {\n",
       "        vertical-align: middle;\n",
       "    }\n",
       "\n",
       "    .dataframe tbody tr th {\n",
       "        vertical-align: top;\n",
       "    }\n",
       "\n",
       "    .dataframe thead th {\n",
       "        text-align: right;\n",
       "    }\n",
       "</style>\n",
       "<table border=\"1\" class=\"dataframe\">\n",
       "  <thead>\n",
       "    <tr style=\"text-align: right;\">\n",
       "      <th></th>\n",
       "      <th>anime_uid</th>\n",
       "      <th>name</th>\n",
       "      <th>synopsis</th>\n",
       "      <th>genre</th>\n",
       "      <th>episodes</th>\n",
       "      <th>members</th>\n",
       "      <th>popularity</th>\n",
       "      <th>score</th>\n",
       "    </tr>\n",
       "  </thead>\n",
       "  <tbody>\n",
       "    <tr>\n",
       "      <th>0</th>\n",
       "      <td>28891</td>\n",
       "      <td>Haikyuu Second Season</td>\n",
       "      <td>Following their participation at the Inter-Hig...</td>\n",
       "      <td>['Comedy', 'Sports', 'Drama', 'School', 'Shoun...</td>\n",
       "      <td>25.0</td>\n",
       "      <td>489888</td>\n",
       "      <td>141</td>\n",
       "      <td>8.82</td>\n",
       "    </tr>\n",
       "    <tr>\n",
       "      <th>1</th>\n",
       "      <td>23273</td>\n",
       "      <td>Shigatsu wa Kimi no Uso</td>\n",
       "      <td>Music accompanies the path of the human metron...</td>\n",
       "      <td>['Drama', 'Music', 'Romance', 'School', 'Shoun...</td>\n",
       "      <td>22.0</td>\n",
       "      <td>995473</td>\n",
       "      <td>28</td>\n",
       "      <td>8.83</td>\n",
       "    </tr>\n",
       "    <tr>\n",
       "      <th>2</th>\n",
       "      <td>34599</td>\n",
       "      <td>Made in Abyss</td>\n",
       "      <td>The Abyss—a gaping chasm stretching down into ...</td>\n",
       "      <td>['Sci-Fi', 'Adventure', 'Mystery', 'Drama', 'F...</td>\n",
       "      <td>13.0</td>\n",
       "      <td>581663</td>\n",
       "      <td>98</td>\n",
       "      <td>8.83</td>\n",
       "    </tr>\n",
       "    <tr>\n",
       "      <th>3</th>\n",
       "      <td>5114</td>\n",
       "      <td>Fullmetal Alchemist Brotherhood</td>\n",
       "      <td>\"In order for something to be obtained, someth...</td>\n",
       "      <td>['Action', 'Military', 'Adventure', 'Comedy', ...</td>\n",
       "      <td>64.0</td>\n",
       "      <td>1615084</td>\n",
       "      <td>4</td>\n",
       "      <td>9.23</td>\n",
       "    </tr>\n",
       "    <tr>\n",
       "      <th>4</th>\n",
       "      <td>31758</td>\n",
       "      <td>Kizumonogatari III Reiketsuhen</td>\n",
       "      <td>After helping revive the legendary vampire Kis...</td>\n",
       "      <td>['Action', 'Mystery', 'Supernatural', 'Vampire']</td>\n",
       "      <td>1.0</td>\n",
       "      <td>214621</td>\n",
       "      <td>502</td>\n",
       "      <td>8.83</td>\n",
       "    </tr>\n",
       "  </tbody>\n",
       "</table>\n",
       "</div>"
      ],
      "text/plain": [
       "   anime_uid                             name  \\\n",
       "0      28891            Haikyuu Second Season   \n",
       "1      23273          Shigatsu wa Kimi no Uso   \n",
       "2      34599                    Made in Abyss   \n",
       "3       5114  Fullmetal Alchemist Brotherhood   \n",
       "4      31758   Kizumonogatari III Reiketsuhen   \n",
       "\n",
       "                                            synopsis  \\\n",
       "0  Following their participation at the Inter-Hig...   \n",
       "1  Music accompanies the path of the human metron...   \n",
       "2  The Abyss—a gaping chasm stretching down into ...   \n",
       "3  \"In order for something to be obtained, someth...   \n",
       "4  After helping revive the legendary vampire Kis...   \n",
       "\n",
       "                                               genre  episodes  members  \\\n",
       "0  ['Comedy', 'Sports', 'Drama', 'School', 'Shoun...      25.0   489888   \n",
       "1  ['Drama', 'Music', 'Romance', 'School', 'Shoun...      22.0   995473   \n",
       "2  ['Sci-Fi', 'Adventure', 'Mystery', 'Drama', 'F...      13.0   581663   \n",
       "3  ['Action', 'Military', 'Adventure', 'Comedy', ...      64.0  1615084   \n",
       "4   ['Action', 'Mystery', 'Supernatural', 'Vampire']       1.0   214621   \n",
       "\n",
       "   popularity  score  \n",
       "0         141   8.82  \n",
       "1          28   8.83  \n",
       "2          98   8.83  \n",
       "3           4   9.23  \n",
       "4         502   8.83  "
      ]
     },
     "execution_count": 3,
     "metadata": {},
     "output_type": "execute_result"
    }
   ],
   "source": [
    "anime_df.rename(columns={'uid': 'anime_uid'}, inplace=True)\n",
    "anime_df.episodes.replace({'Unknown':np.nan},inplace=True)\n",
    "\n",
    "anime_df.drop_duplicates(subset=['name'], inplace=True)\n",
    "anime_df.dropna(inplace=True)\n",
    "anime_df.reset_index(drop=True, inplace=True)\n",
    "\n",
    "anime_df.head(5)"
   ]
  },
  {
   "cell_type": "code",
   "execution_count": 4,
   "metadata": {},
   "outputs": [
    {
     "data": {
      "text/html": [
       "<div>\n",
       "<style scoped>\n",
       "    .dataframe tbody tr th:only-of-type {\n",
       "        vertical-align: middle;\n",
       "    }\n",
       "\n",
       "    .dataframe tbody tr th {\n",
       "        vertical-align: top;\n",
       "    }\n",
       "\n",
       "    .dataframe thead th {\n",
       "        text-align: right;\n",
       "    }\n",
       "</style>\n",
       "<table border=\"1\" class=\"dataframe\">\n",
       "  <thead>\n",
       "    <tr style=\"text-align: right;\">\n",
       "      <th></th>\n",
       "      <th>anime_uid</th>\n",
       "      <th>name</th>\n",
       "      <th>synopsis</th>\n",
       "      <th>genre</th>\n",
       "      <th>episodes</th>\n",
       "      <th>members</th>\n",
       "      <th>popularity</th>\n",
       "      <th>score</th>\n",
       "    </tr>\n",
       "  </thead>\n",
       "  <tbody>\n",
       "    <tr>\n",
       "      <th>0</th>\n",
       "      <td>28891</td>\n",
       "      <td>Haikyuu Second Season</td>\n",
       "      <td>Following their participation at the Inter-Hig...</td>\n",
       "      <td>Comedy, Sports, Drama, School, Shounen</td>\n",
       "      <td>25.0</td>\n",
       "      <td>489888</td>\n",
       "      <td>141</td>\n",
       "      <td>8.82</td>\n",
       "    </tr>\n",
       "    <tr>\n",
       "      <th>1</th>\n",
       "      <td>23273</td>\n",
       "      <td>Shigatsu wa Kimi no Uso</td>\n",
       "      <td>Music accompanies the path of the human metron...</td>\n",
       "      <td>Drama, Music, Romance, School, Shounen</td>\n",
       "      <td>22.0</td>\n",
       "      <td>995473</td>\n",
       "      <td>28</td>\n",
       "      <td>8.83</td>\n",
       "    </tr>\n",
       "    <tr>\n",
       "      <th>2</th>\n",
       "      <td>34599</td>\n",
       "      <td>Made in Abyss</td>\n",
       "      <td>The Abyss—a gaping chasm stretching down into ...</td>\n",
       "      <td>Sci-Fi, Adventure, Mystery, Drama, Fantasy</td>\n",
       "      <td>13.0</td>\n",
       "      <td>581663</td>\n",
       "      <td>98</td>\n",
       "      <td>8.83</td>\n",
       "    </tr>\n",
       "    <tr>\n",
       "      <th>3</th>\n",
       "      <td>5114</td>\n",
       "      <td>Fullmetal Alchemist Brotherhood</td>\n",
       "      <td>\"In order for something to be obtained, someth...</td>\n",
       "      <td>Action, Military, Adventure, Comedy, Drama, Ma...</td>\n",
       "      <td>64.0</td>\n",
       "      <td>1615084</td>\n",
       "      <td>4</td>\n",
       "      <td>9.23</td>\n",
       "    </tr>\n",
       "    <tr>\n",
       "      <th>4</th>\n",
       "      <td>31758</td>\n",
       "      <td>Kizumonogatari III Reiketsuhen</td>\n",
       "      <td>After helping revive the legendary vampire Kis...</td>\n",
       "      <td>Action, Mystery, Supernatural, Vampire</td>\n",
       "      <td>1.0</td>\n",
       "      <td>214621</td>\n",
       "      <td>502</td>\n",
       "      <td>8.83</td>\n",
       "    </tr>\n",
       "  </tbody>\n",
       "</table>\n",
       "</div>"
      ],
      "text/plain": [
       "   anime_uid                             name  \\\n",
       "0      28891            Haikyuu Second Season   \n",
       "1      23273          Shigatsu wa Kimi no Uso   \n",
       "2      34599                    Made in Abyss   \n",
       "3       5114  Fullmetal Alchemist Brotherhood   \n",
       "4      31758   Kizumonogatari III Reiketsuhen   \n",
       "\n",
       "                                            synopsis  \\\n",
       "0  Following their participation at the Inter-Hig...   \n",
       "1  Music accompanies the path of the human metron...   \n",
       "2  The Abyss—a gaping chasm stretching down into ...   \n",
       "3  \"In order for something to be obtained, someth...   \n",
       "4  After helping revive the legendary vampire Kis...   \n",
       "\n",
       "                                               genre  episodes  members  \\\n",
       "0             Comedy, Sports, Drama, School, Shounen      25.0   489888   \n",
       "1             Drama, Music, Romance, School, Shounen      22.0   995473   \n",
       "2         Sci-Fi, Adventure, Mystery, Drama, Fantasy      13.0   581663   \n",
       "3  Action, Military, Adventure, Comedy, Drama, Ma...      64.0  1615084   \n",
       "4             Action, Mystery, Supernatural, Vampire       1.0   214621   \n",
       "\n",
       "   popularity  score  \n",
       "0         141   8.82  \n",
       "1          28   8.83  \n",
       "2          98   8.83  \n",
       "3           4   9.23  \n",
       "4         502   8.83  "
      ]
     },
     "execution_count": 4,
     "metadata": {},
     "output_type": "execute_result"
    }
   ],
   "source": [
    "# replace the characters \"[]'\" with an empty space as the genre column is already of type string\n",
    "anime_df['genre'] = anime_df['genre'].str.replace(\"'\", \"\", regex=False)\n",
    "anime_df['genre'] = anime_df['genre'].str.replace(\"[\", \"\", regex=False)\n",
    "anime_df['genre'] = anime_df['genre'].str.replace(\"]\", \"\", regex=False)\n",
    "\n",
    "anime_df.head(5)"
   ]
  },
  {
   "attachments": {},
   "cell_type": "markdown",
   "metadata": {},
   "source": [
    "Use Tfid Vectorizer to fit and transform the synopsis and genre columns"
   ]
  },
  {
   "cell_type": "code",
   "execution_count": null,
   "metadata": {},
   "outputs": [],
   "source": [
    "# # Combining the synopsis and genres columns into a single column so that we do not get an inconsistent shapes error when doing using tfidf separately\n",
    "# anime_df['synopsis_genres'] = anime_df['synopsis'] + ' ' + anime_df['genre'] \n",
    "# anime_df['describe'] = anime_df['genre']\n",
    "# anime_df.head()"
   ]
  },
  {
   "cell_type": "code",
   "execution_count": null,
   "metadata": {},
   "outputs": [],
   "source": [
    "anime_df.dtypes"
   ]
  },
  {
   "cell_type": "code",
   "execution_count": null,
   "metadata": {},
   "outputs": [],
   "source": [
    "anime_df['synopsis'] = anime_df['synopsis'].apply(lambda x: x.lower())\n",
    "\n",
    "tfidf_vectorizer = TfidfVectorizer(ngram_range=(1,2), stop_words='english')\n",
    "\n",
    "tfidf_matrix = tfidf_vectorizer.fit_transform(anime_df['synopsis_genres'])\n",
    "\n",
    "cosine_sim = cosine_similarity(tfidf_matrix)\n",
    "\n",
    "print(cosine_sim)\n",
    "\n",
    "tfidf_matrix.shape"
   ]
  },
  {
   "cell_type": "code",
   "execution_count": null,
   "metadata": {},
   "outputs": [],
   "source": [
    "simil = linear_kernel(tfidf_matrix, tfidf_matrix)\n",
    "simil.shape"
   ]
  },
  {
   "cell_type": "code",
   "execution_count": null,
   "metadata": {},
   "outputs": [],
   "source": [
    "id = anime_df['anime_uid'].values\n",
    "simil = pd.DataFrame(simil, index=id, columns=id)\n",
    "simil.columns = anime_df['name']\n",
    "simil['anime_name'] = anime_df['name'].values\n",
    "simil.fillna(0)\n",
    "\n",
    "simil.head()"
   ]
  },
  {
   "cell_type": "code",
   "execution_count": null,
   "metadata": {},
   "outputs": [],
   "source": [
    "def content_rec(name):\n",
    "    idx = simil[simil['anime_name']==name]\n",
    "    idx = idx.drop('anime_name', axis=1).T\n",
    "    idx.columns = ['similar_val']\n",
    "    idx = idx.sort_values(by='similar_val', ascending=False)\n",
    "    return idx"
   ]
  },
  {
   "cell_type": "code",
   "execution_count": null,
   "metadata": {},
   "outputs": [],
   "source": [
    "content_rec('Shingeki no Kyojin').head(10)"
   ]
  },
  {
   "attachments": {},
   "cell_type": "markdown",
   "metadata": {},
   "source": [
    "Recommend Similar anime"
   ]
  },
  {
   "cell_type": "code",
   "execution_count": null,
   "metadata": {},
   "outputs": [],
   "source": [
    "# alpha = weight for cosine similarity (synopsis + genre)\n",
    "# beta = weight for rating\n",
    "\n",
    "def get_similar_anime(title, n, alpha, beta):\n",
    "    idx = anime_df.index[anime_df['name'] == title][0]\n",
    "\n",
    "    weighted_scores = []\n",
    "\n",
    "    for i in range(len(anime_df)):\n",
    "        if i != idx:\n",
    "            weighted_score = alpha * cosine_sim[idx][i] + beta * anime_df['score'][i]\n",
    "            weighted_scores.append((i, weighted_score))\n",
    "    \n",
    "    # Sort the anime based on the weighted scores\n",
    "    weighted_scores = sorted(weighted_scores, key=lambda x: x[1], reverse=True)\n",
    "    \n",
    "    # Get the indices of the top n similar anime\n",
    "    sim_anime_indices = [i[0] for i in weighted_scores if anime_df['name'][i[0]] != title][:n]\n",
    "    \n",
    "    # Return the titles of the top n similar anime\n",
    "    return anime_df['name'].iloc[sim_anime_indices]"
   ]
  },
  {
   "cell_type": "code",
   "execution_count": null,
   "metadata": {},
   "outputs": [],
   "source": [
    "get_similar_anime(\"Shingeki no Kyojin\", 10, alpha=0.5, beta=0.5)"
   ]
  },
  {
   "attachments": {},
   "cell_type": "markdown",
   "metadata": {},
   "source": [
    "3                  Fullmetal Alchemist Brotherhood\n",
    "752                           Hunter x Hunter 2011\n",
    "753                                     SteinsGate\n",
    "751                                  Kimi no Na wa\n",
    "750             Shingeki no Kyojin Season 3 Part 2\n",
    "11191    Quiz de Manabu Pinocchio no Koutsuu Ansen\n",
    "749                                       Gintama°\n",
    "748                           Ginga Eiyuu Densetsu\n",
    "747                      3gatsu no Lion 2nd Season\n",
    "746                                 Koe no Katachi"
   ]
  },
  {
   "cell_type": "code",
   "execution_count": null,
   "metadata": {},
   "outputs": [],
   "source": [
    "user_ratings_df = pd.read_csv(\"reviews.csv\")\n",
    "user_ratings_df.head(5)"
   ]
  },
  {
   "attachments": {},
   "cell_type": "markdown",
   "metadata": {},
   "source": [
    "1.2 Merging the datasets"
   ]
  },
  {
   "cell_type": "code",
   "execution_count": null,
   "metadata": {},
   "outputs": [],
   "source": [
    "# remove unwanted columns\n",
    "user_ratings_df.drop(['uid', 'link'], axis=1, inplace=True)\n",
    "user_ratings_df.head(5)"
   ]
  },
  {
   "cell_type": "code",
   "execution_count": null,
   "metadata": {},
   "outputs": [],
   "source": [
    "# change profile names into unique IDs (i.e. integers)\n",
    "user_ratings_df.profile = pd.factorize(user_ratings_df.profile)[0]\n",
    "user_ratings_df.rename(columns={'profile': 'user_id'}, inplace=True)\n",
    "user_ratings_df.head(10)"
   ]
  },
  {
   "cell_type": "code",
   "execution_count": null,
   "metadata": {},
   "outputs": [],
   "source": [
    "merged_anime_reviews_df = pd.merge(anime_df, user_ratings_df, on='anime_uid')\n",
    "merged_anime_reviews_df.rename(columns={'score_x':'avg_rating', 'text': 'review_text'},inplace=True)\n",
    "\n",
    "merged_anime_reviews_df.drop('review_text', axis=1, inplace=True)\n",
    "\n",
    "merged_anime_reviews_df.head()"
   ]
  },
  {
   "attachments": {},
   "cell_type": "markdown",
   "metadata": {},
   "source": [
    "Categorical encoding -> Separating genres into their own respective column"
   ]
  },
  {
   "cell_type": "code",
   "execution_count": null,
   "metadata": {},
   "outputs": [],
   "source": [
    "# replace the characters \"[]'\" with an empty space as the genre column is already of type string\n",
    "# merged_anime_reviews_df['genre'] = merged_anime_reviews_df['genre'].str.replace(\"'\", \"\", regex=False)\n",
    "# merged_anime_reviews_df['genre'] = merged_anime_reviews_df['genre'].str.replace(\"[\", \"\", regex=False)\n",
    "# merged_anime_reviews_df['genre'] = merged_anime_reviews_df['genre'].str.replace(\"]\", \"\", regex=False)\n",
    "\n",
    "# merged_anime_reviews_df.head(5)"
   ]
  },
  {
   "attachments": {},
   "cell_type": "markdown",
   "metadata": {},
   "source": [
    "Clean data -> drop duplicates + NaN values"
   ]
  },
  {
   "cell_type": "code",
   "execution_count": null,
   "metadata": {},
   "outputs": [],
   "source": [
    "# merged_anime_reviews_df.drop_duplicates(inplace=True)\n",
    "# merged_anime_reviews_df.dropna(inplace=True)"
   ]
  }
 ],
 "metadata": {
  "kernelspec": {
   "display_name": "ML",
   "language": "python",
   "name": "python3"
  },
  "language_info": {
   "codemirror_mode": {
    "name": "ipython",
    "version": 3
   },
   "file_extension": ".py",
   "mimetype": "text/x-python",
   "name": "python",
   "nbconvert_exporter": "python",
   "pygments_lexer": "ipython3",
   "version": "3.9.16"
  },
  "orig_nbformat": 4,
  "vscode": {
   "interpreter": {
    "hash": "bd13d575caf8b70215954cabbb125610f9a3fd956dffe94b396ea02dd8e04b1c"
   }
  }
 },
 "nbformat": 4,
 "nbformat_minor": 2
}
