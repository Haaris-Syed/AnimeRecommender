{
 "cells": [
  {
   "attachments": {},
   "cell_type": "markdown",
   "metadata": {},
   "source": [
    "Preprocessing Anime dataset from Kaggle"
   ]
  },
  {
   "cell_type": "code",
   "execution_count": 1,
   "metadata": {},
   "outputs": [],
   "source": [
    "from collections import defaultdict\n",
    "import pandas as pd\n",
    "import numpy as np\n",
    "import sklearn as sk\n",
    "from sklearn.cluster import KMeans\n",
    "from sklearn.decomposition import PCA\n",
    "from sklearn.preprocessing import MinMaxScaler\n",
    "from sklearn.metrics import silhouette_score\n",
    "import matplotlib.pyplot as plt\n",
    "import re\n",
    "import string"
   ]
  },
  {
   "attachments": {},
   "cell_type": "markdown",
   "metadata": {},
   "source": [
    "1. Data preprocessing"
   ]
  },
  {
   "attachments": {},
   "cell_type": "markdown",
   "metadata": {},
   "source": [
    "1.1 Data Cleaning"
   ]
  },
  {
   "cell_type": "code",
   "execution_count": 2,
   "metadata": {},
   "outputs": [
    {
     "data": {
      "text/html": [
       "<div>\n",
       "<style scoped>\n",
       "    .dataframe tbody tr th:only-of-type {\n",
       "        vertical-align: middle;\n",
       "    }\n",
       "\n",
       "    .dataframe tbody tr th {\n",
       "        vertical-align: top;\n",
       "    }\n",
       "\n",
       "    .dataframe thead th {\n",
       "        text-align: right;\n",
       "    }\n",
       "</style>\n",
       "<table border=\"1\" class=\"dataframe\">\n",
       "  <thead>\n",
       "    <tr style=\"text-align: right;\">\n",
       "      <th></th>\n",
       "      <th>uid</th>\n",
       "      <th>name</th>\n",
       "      <th>synopsis</th>\n",
       "      <th>genre</th>\n",
       "      <th>episodes</th>\n",
       "      <th>members</th>\n",
       "      <th>popularity</th>\n",
       "      <th>score</th>\n",
       "    </tr>\n",
       "  </thead>\n",
       "  <tbody>\n",
       "    <tr>\n",
       "      <th>0</th>\n",
       "      <td>28891</td>\n",
       "      <td>Haikyuu Second Season</td>\n",
       "      <td>Following their participation at the Inter-Hig...</td>\n",
       "      <td>['Comedy', 'Sports', 'Drama', 'School', 'Shoun...</td>\n",
       "      <td>25.0</td>\n",
       "      <td>489888</td>\n",
       "      <td>141</td>\n",
       "      <td>8.82</td>\n",
       "    </tr>\n",
       "    <tr>\n",
       "      <th>1</th>\n",
       "      <td>23273</td>\n",
       "      <td>Shigatsu wa Kimi no Uso</td>\n",
       "      <td>Music accompanies the path of the human metron...</td>\n",
       "      <td>['Drama', 'Music', 'Romance', 'School', 'Shoun...</td>\n",
       "      <td>22.0</td>\n",
       "      <td>995473</td>\n",
       "      <td>28</td>\n",
       "      <td>8.83</td>\n",
       "    </tr>\n",
       "    <tr>\n",
       "      <th>2</th>\n",
       "      <td>34599</td>\n",
       "      <td>Made in Abyss</td>\n",
       "      <td>The Abyss—a gaping chasm stretching down into ...</td>\n",
       "      <td>['Sci-Fi', 'Adventure', 'Mystery', 'Drama', 'F...</td>\n",
       "      <td>13.0</td>\n",
       "      <td>581663</td>\n",
       "      <td>98</td>\n",
       "      <td>8.83</td>\n",
       "    </tr>\n",
       "    <tr>\n",
       "      <th>3</th>\n",
       "      <td>5114</td>\n",
       "      <td>Fullmetal Alchemist Brotherhood</td>\n",
       "      <td>\"In order for something to be obtained, someth...</td>\n",
       "      <td>['Action', 'Military', 'Adventure', 'Comedy', ...</td>\n",
       "      <td>64.0</td>\n",
       "      <td>1615084</td>\n",
       "      <td>4</td>\n",
       "      <td>9.23</td>\n",
       "    </tr>\n",
       "    <tr>\n",
       "      <th>4</th>\n",
       "      <td>31758</td>\n",
       "      <td>Kizumonogatari III Reiketsuhen</td>\n",
       "      <td>After helping revive the legendary vampire Kis...</td>\n",
       "      <td>['Action', 'Mystery', 'Supernatural', 'Vampire']</td>\n",
       "      <td>1.0</td>\n",
       "      <td>214621</td>\n",
       "      <td>502</td>\n",
       "      <td>8.83</td>\n",
       "    </tr>\n",
       "  </tbody>\n",
       "</table>\n",
       "</div>"
      ],
      "text/plain": [
       "     uid                             name  \\\n",
       "0  28891            Haikyuu Second Season   \n",
       "1  23273          Shigatsu wa Kimi no Uso   \n",
       "2  34599                    Made in Abyss   \n",
       "3   5114  Fullmetal Alchemist Brotherhood   \n",
       "4  31758   Kizumonogatari III Reiketsuhen   \n",
       "\n",
       "                                            synopsis  \\\n",
       "0  Following their participation at the Inter-Hig...   \n",
       "1  Music accompanies the path of the human metron...   \n",
       "2  The Abyss—a gaping chasm stretching down into ...   \n",
       "3  \"In order for something to be obtained, someth...   \n",
       "4  After helping revive the legendary vampire Kis...   \n",
       "\n",
       "                                               genre  episodes  members  \\\n",
       "0  ['Comedy', 'Sports', 'Drama', 'School', 'Shoun...      25.0   489888   \n",
       "1  ['Drama', 'Music', 'Romance', 'School', 'Shoun...      22.0   995473   \n",
       "2  ['Sci-Fi', 'Adventure', 'Mystery', 'Drama', 'F...      13.0   581663   \n",
       "3  ['Action', 'Military', 'Adventure', 'Comedy', ...      64.0  1615084   \n",
       "4   ['Action', 'Mystery', 'Supernatural', 'Vampire']       1.0   214621   \n",
       "\n",
       "   popularity  score  \n",
       "0         141   8.82  \n",
       "1          28   8.83  \n",
       "2          98   8.83  \n",
       "3           4   9.23  \n",
       "4         502   8.83  "
      ]
     },
     "execution_count": 2,
     "metadata": {},
     "output_type": "execute_result"
    }
   ],
   "source": [
    "# remove unwanted features (columns) from the dataset\n",
    "anime_df = pd.read_csv(\"animes.csv\")\n",
    "anime_df.rename(columns={'title': 'name'}, inplace=True)\n",
    "anime_df.drop(['aired', 'ranked', 'img_url', 'link'], axis=1, inplace=True)\n",
    "\n",
    "#removing unwanted characters from the anime name strings\n",
    "def text_cleaning(text):\n",
    "    text = re.sub(r'&quot;', '', text)\n",
    "    text  = \"\".join([char for char in text if char not in string.punctuation])\n",
    "    text = re.sub(r'.hack//', '', text)\n",
    "    text = re.sub(r'&#039;', '', text)\n",
    "    text = re.sub(r'A&#039;s', '', text)\n",
    "    text = re.sub(r'I&#039;', 'I\\'', text)\n",
    "    text = re.sub(r'&amp;', 'and', text)\n",
    "    text = re.sub(r'Â°', '',text)\n",
    "\n",
    "    return text\n",
    "\n",
    "anime_df['name'] = anime_df['name'].apply(text_cleaning)\n",
    "anime_df.head(5)"
   ]
  },
  {
   "cell_type": "code",
   "execution_count": 3,
   "metadata": {},
   "outputs": [
    {
     "data": {
      "text/html": [
       "<div>\n",
       "<style scoped>\n",
       "    .dataframe tbody tr th:only-of-type {\n",
       "        vertical-align: middle;\n",
       "    }\n",
       "\n",
       "    .dataframe tbody tr th {\n",
       "        vertical-align: top;\n",
       "    }\n",
       "\n",
       "    .dataframe thead th {\n",
       "        text-align: right;\n",
       "    }\n",
       "</style>\n",
       "<table border=\"1\" class=\"dataframe\">\n",
       "  <thead>\n",
       "    <tr style=\"text-align: right;\">\n",
       "      <th></th>\n",
       "      <th>anime_uid</th>\n",
       "      <th>name</th>\n",
       "      <th>synopsis</th>\n",
       "      <th>genre</th>\n",
       "      <th>episodes</th>\n",
       "      <th>members</th>\n",
       "      <th>popularity</th>\n",
       "      <th>score</th>\n",
       "    </tr>\n",
       "  </thead>\n",
       "  <tbody>\n",
       "    <tr>\n",
       "      <th>0</th>\n",
       "      <td>28891</td>\n",
       "      <td>Haikyuu Second Season</td>\n",
       "      <td>Following their participation at the Inter-Hig...</td>\n",
       "      <td>['Comedy', 'Sports', 'Drama', 'School', 'Shoun...</td>\n",
       "      <td>25.0</td>\n",
       "      <td>489888</td>\n",
       "      <td>141</td>\n",
       "      <td>8.82</td>\n",
       "    </tr>\n",
       "    <tr>\n",
       "      <th>1</th>\n",
       "      <td>23273</td>\n",
       "      <td>Shigatsu wa Kimi no Uso</td>\n",
       "      <td>Music accompanies the path of the human metron...</td>\n",
       "      <td>['Drama', 'Music', 'Romance', 'School', 'Shoun...</td>\n",
       "      <td>22.0</td>\n",
       "      <td>995473</td>\n",
       "      <td>28</td>\n",
       "      <td>8.83</td>\n",
       "    </tr>\n",
       "    <tr>\n",
       "      <th>2</th>\n",
       "      <td>34599</td>\n",
       "      <td>Made in Abyss</td>\n",
       "      <td>The Abyss—a gaping chasm stretching down into ...</td>\n",
       "      <td>['Sci-Fi', 'Adventure', 'Mystery', 'Drama', 'F...</td>\n",
       "      <td>13.0</td>\n",
       "      <td>581663</td>\n",
       "      <td>98</td>\n",
       "      <td>8.83</td>\n",
       "    </tr>\n",
       "    <tr>\n",
       "      <th>3</th>\n",
       "      <td>5114</td>\n",
       "      <td>Fullmetal Alchemist Brotherhood</td>\n",
       "      <td>\"In order for something to be obtained, someth...</td>\n",
       "      <td>['Action', 'Military', 'Adventure', 'Comedy', ...</td>\n",
       "      <td>64.0</td>\n",
       "      <td>1615084</td>\n",
       "      <td>4</td>\n",
       "      <td>9.23</td>\n",
       "    </tr>\n",
       "    <tr>\n",
       "      <th>4</th>\n",
       "      <td>31758</td>\n",
       "      <td>Kizumonogatari III Reiketsuhen</td>\n",
       "      <td>After helping revive the legendary vampire Kis...</td>\n",
       "      <td>['Action', 'Mystery', 'Supernatural', 'Vampire']</td>\n",
       "      <td>1.0</td>\n",
       "      <td>214621</td>\n",
       "      <td>502</td>\n",
       "      <td>8.83</td>\n",
       "    </tr>\n",
       "  </tbody>\n",
       "</table>\n",
       "</div>"
      ],
      "text/plain": [
       "   anime_uid                             name  \\\n",
       "0      28891            Haikyuu Second Season   \n",
       "1      23273          Shigatsu wa Kimi no Uso   \n",
       "2      34599                    Made in Abyss   \n",
       "3       5114  Fullmetal Alchemist Brotherhood   \n",
       "4      31758   Kizumonogatari III Reiketsuhen   \n",
       "\n",
       "                                            synopsis  \\\n",
       "0  Following their participation at the Inter-Hig...   \n",
       "1  Music accompanies the path of the human metron...   \n",
       "2  The Abyss—a gaping chasm stretching down into ...   \n",
       "3  \"In order for something to be obtained, someth...   \n",
       "4  After helping revive the legendary vampire Kis...   \n",
       "\n",
       "                                               genre  episodes  members  \\\n",
       "0  ['Comedy', 'Sports', 'Drama', 'School', 'Shoun...      25.0   489888   \n",
       "1  ['Drama', 'Music', 'Romance', 'School', 'Shoun...      22.0   995473   \n",
       "2  ['Sci-Fi', 'Adventure', 'Mystery', 'Drama', 'F...      13.0   581663   \n",
       "3  ['Action', 'Military', 'Adventure', 'Comedy', ...      64.0  1615084   \n",
       "4   ['Action', 'Mystery', 'Supernatural', 'Vampire']       1.0   214621   \n",
       "\n",
       "   popularity  score  \n",
       "0         141   8.82  \n",
       "1          28   8.83  \n",
       "2          98   8.83  \n",
       "3           4   9.23  \n",
       "4         502   8.83  "
      ]
     },
     "execution_count": 3,
     "metadata": {},
     "output_type": "execute_result"
    }
   ],
   "source": [
    "anime_df.rename(columns={'uid': 'anime_uid'}, inplace=True)\n",
    "anime_df.episodes.replace({'Unknown':np.nan},inplace=True)\n",
    "\n",
    "anime_df.head(5)"
   ]
  },
  {
   "cell_type": "code",
   "execution_count": 4,
   "metadata": {},
   "outputs": [
    {
     "data": {
      "text/html": [
       "<div>\n",
       "<style scoped>\n",
       "    .dataframe tbody tr th:only-of-type {\n",
       "        vertical-align: middle;\n",
       "    }\n",
       "\n",
       "    .dataframe tbody tr th {\n",
       "        vertical-align: top;\n",
       "    }\n",
       "\n",
       "    .dataframe thead th {\n",
       "        text-align: right;\n",
       "    }\n",
       "</style>\n",
       "<table border=\"1\" class=\"dataframe\">\n",
       "  <thead>\n",
       "    <tr style=\"text-align: right;\">\n",
       "      <th></th>\n",
       "      <th>anime_uid</th>\n",
       "      <th>name</th>\n",
       "      <th>synopsis</th>\n",
       "      <th>genre</th>\n",
       "      <th>episodes</th>\n",
       "      <th>members</th>\n",
       "      <th>popularity</th>\n",
       "      <th>score</th>\n",
       "    </tr>\n",
       "  </thead>\n",
       "  <tbody>\n",
       "    <tr>\n",
       "      <th>0</th>\n",
       "      <td>28891</td>\n",
       "      <td>Haikyuu Second Season</td>\n",
       "      <td>Following their participation at the Inter-Hig...</td>\n",
       "      <td>Comedy, Sports, Drama, School, Shounen</td>\n",
       "      <td>25.0</td>\n",
       "      <td>489888</td>\n",
       "      <td>141</td>\n",
       "      <td>8.82</td>\n",
       "    </tr>\n",
       "    <tr>\n",
       "      <th>1</th>\n",
       "      <td>23273</td>\n",
       "      <td>Shigatsu wa Kimi no Uso</td>\n",
       "      <td>Music accompanies the path of the human metron...</td>\n",
       "      <td>Drama, Music, Romance, School, Shounen</td>\n",
       "      <td>22.0</td>\n",
       "      <td>995473</td>\n",
       "      <td>28</td>\n",
       "      <td>8.83</td>\n",
       "    </tr>\n",
       "    <tr>\n",
       "      <th>2</th>\n",
       "      <td>34599</td>\n",
       "      <td>Made in Abyss</td>\n",
       "      <td>The Abyss—a gaping chasm stretching down into ...</td>\n",
       "      <td>Sci-Fi, Adventure, Mystery, Drama, Fantasy</td>\n",
       "      <td>13.0</td>\n",
       "      <td>581663</td>\n",
       "      <td>98</td>\n",
       "      <td>8.83</td>\n",
       "    </tr>\n",
       "    <tr>\n",
       "      <th>3</th>\n",
       "      <td>5114</td>\n",
       "      <td>Fullmetal Alchemist Brotherhood</td>\n",
       "      <td>\"In order for something to be obtained, someth...</td>\n",
       "      <td>Action, Military, Adventure, Comedy, Drama, Ma...</td>\n",
       "      <td>64.0</td>\n",
       "      <td>1615084</td>\n",
       "      <td>4</td>\n",
       "      <td>9.23</td>\n",
       "    </tr>\n",
       "    <tr>\n",
       "      <th>4</th>\n",
       "      <td>31758</td>\n",
       "      <td>Kizumonogatari III Reiketsuhen</td>\n",
       "      <td>After helping revive the legendary vampire Kis...</td>\n",
       "      <td>Action, Mystery, Supernatural, Vampire</td>\n",
       "      <td>1.0</td>\n",
       "      <td>214621</td>\n",
       "      <td>502</td>\n",
       "      <td>8.83</td>\n",
       "    </tr>\n",
       "  </tbody>\n",
       "</table>\n",
       "</div>"
      ],
      "text/plain": [
       "   anime_uid                             name  \\\n",
       "0      28891            Haikyuu Second Season   \n",
       "1      23273          Shigatsu wa Kimi no Uso   \n",
       "2      34599                    Made in Abyss   \n",
       "3       5114  Fullmetal Alchemist Brotherhood   \n",
       "4      31758   Kizumonogatari III Reiketsuhen   \n",
       "\n",
       "                                            synopsis  \\\n",
       "0  Following their participation at the Inter-Hig...   \n",
       "1  Music accompanies the path of the human metron...   \n",
       "2  The Abyss—a gaping chasm stretching down into ...   \n",
       "3  \"In order for something to be obtained, someth...   \n",
       "4  After helping revive the legendary vampire Kis...   \n",
       "\n",
       "                                               genre  episodes  members  \\\n",
       "0             Comedy, Sports, Drama, School, Shounen      25.0   489888   \n",
       "1             Drama, Music, Romance, School, Shounen      22.0   995473   \n",
       "2         Sci-Fi, Adventure, Mystery, Drama, Fantasy      13.0   581663   \n",
       "3  Action, Military, Adventure, Comedy, Drama, Ma...      64.0  1615084   \n",
       "4             Action, Mystery, Supernatural, Vampire       1.0   214621   \n",
       "\n",
       "   popularity  score  \n",
       "0         141   8.82  \n",
       "1          28   8.83  \n",
       "2          98   8.83  \n",
       "3           4   9.23  \n",
       "4         502   8.83  "
      ]
     },
     "execution_count": 4,
     "metadata": {},
     "output_type": "execute_result"
    }
   ],
   "source": [
    "# replace the characters \"[]'\" with an empty space as the genre column is already of type string\n",
    "anime_df['genre'] = anime_df['genre'].str.replace(\"'\", \"\", regex=False)\n",
    "anime_df['genre'] = anime_df['genre'].str.replace(\"[\", \"\", regex=False)\n",
    "anime_df['genre'] = anime_df['genre'].str.replace(\"]\", \"\", regex=False)\n",
    "\n",
    "anime_df.head(5)"
   ]
  },
  {
   "cell_type": "code",
   "execution_count": null,
   "metadata": {},
   "outputs": [],
   "source": [
    "user_ratings_df = pd.read_csv(\"reviews.csv\")\n",
    "user_ratings_df.head(5)"
   ]
  },
  {
   "attachments": {},
   "cell_type": "markdown",
   "metadata": {},
   "source": [
    "1.2 Merging the datasets"
   ]
  },
  {
   "cell_type": "code",
   "execution_count": null,
   "metadata": {},
   "outputs": [],
   "source": [
    "# remove unwanted columns\n",
    "user_ratings_df.drop(['uid', 'link'], axis=1, inplace=True)\n",
    "user_ratings_df.head(5)"
   ]
  },
  {
   "cell_type": "code",
   "execution_count": null,
   "metadata": {},
   "outputs": [],
   "source": [
    "# change profile names into unique IDs (i.e. integers)\n",
    "user_ratings_df.profile = pd.factorize(user_ratings_df.profile)[0]\n",
    "user_ratings_df.rename(columns={'profile': 'user_id'}, inplace=True)\n",
    "user_ratings_df.head(10)"
   ]
  },
  {
   "cell_type": "code",
   "execution_count": null,
   "metadata": {},
   "outputs": [],
   "source": [
    "merged_anime_reviews_df = pd.merge(anime_df, user_ratings_df, on='anime_uid')\n",
    "merged_anime_reviews_df.rename(columns={'score_x':'avg_rating', 'text': 'review_text'},inplace=True)\n",
    "\n",
    "merged_anime_reviews_df.drop('review_text', axis=1, inplace=True)\n",
    "\n",
    "merged_anime_reviews_df.head()"
   ]
  },
  {
   "attachments": {},
   "cell_type": "markdown",
   "metadata": {},
   "source": [
    "Categorical encoding -> Separating genres into their own respective column"
   ]
  },
  {
   "cell_type": "code",
   "execution_count": null,
   "metadata": {},
   "outputs": [],
   "source": [
    "# replace the characters \"[]'\" with an empty space as the genre column is already of type string\n",
    "# merged_anime_reviews_df['genre'] = merged_anime_reviews_df['genre'].str.replace(\"'\", \"\", regex=False)\n",
    "# merged_anime_reviews_df['genre'] = merged_anime_reviews_df['genre'].str.replace(\"[\", \"\", regex=False)\n",
    "# merged_anime_reviews_df['genre'] = merged_anime_reviews_df['genre'].str.replace(\"]\", \"\", regex=False)\n",
    "\n",
    "# merged_anime_reviews_df.head(5)"
   ]
  },
  {
   "attachments": {},
   "cell_type": "markdown",
   "metadata": {},
   "source": [
    "Clean data -> drop duplicates + NaN values"
   ]
  },
  {
   "cell_type": "code",
   "execution_count": null,
   "metadata": {},
   "outputs": [],
   "source": [
    "# merged_anime_reviews_df.drop_duplicates(inplace=True)\n",
    "# merged_anime_reviews_df.dropna(inplace=True)"
   ]
  },
  {
   "cell_type": "code",
   "execution_count": 5,
   "metadata": {},
   "outputs": [],
   "source": [
    "anime_df.drop_duplicates(inplace=True)\n",
    "anime_df.dropna(inplace=True)"
   ]
  },
  {
   "attachments": {},
   "cell_type": "markdown",
   "metadata": {},
   "source": [
    "Create genre df using one-hot encoding -> represents if an anime contains a genre or not by using 1s (yes) and 0s (no)"
   ]
  },
  {
   "cell_type": "code",
   "execution_count": 6,
   "metadata": {},
   "outputs": [
    {
     "data": {
      "text/html": [
       "<div>\n",
       "<style scoped>\n",
       "    .dataframe tbody tr th:only-of-type {\n",
       "        vertical-align: middle;\n",
       "    }\n",
       "\n",
       "    .dataframe tbody tr th {\n",
       "        vertical-align: top;\n",
       "    }\n",
       "\n",
       "    .dataframe thead th {\n",
       "        text-align: right;\n",
       "    }\n",
       "</style>\n",
       "<table border=\"1\" class=\"dataframe\">\n",
       "  <thead>\n",
       "    <tr style=\"text-align: right;\">\n",
       "      <th></th>\n",
       "      <th>Action</th>\n",
       "      <th>Adventure</th>\n",
       "      <th>Cars</th>\n",
       "      <th>Comedy</th>\n",
       "      <th>Dementia</th>\n",
       "      <th>Demons</th>\n",
       "      <th>Drama</th>\n",
       "      <th>Ecchi</th>\n",
       "      <th>Fantasy</th>\n",
       "      <th>Game</th>\n",
       "      <th>...</th>\n",
       "      <th>Shounen Ai</th>\n",
       "      <th>Slice of Life</th>\n",
       "      <th>Space</th>\n",
       "      <th>Sports</th>\n",
       "      <th>Super Power</th>\n",
       "      <th>Supernatural</th>\n",
       "      <th>Thriller</th>\n",
       "      <th>Vampire</th>\n",
       "      <th>Yaoi</th>\n",
       "      <th>Yuri</th>\n",
       "    </tr>\n",
       "  </thead>\n",
       "  <tbody>\n",
       "    <tr>\n",
       "      <th>0</th>\n",
       "      <td>0</td>\n",
       "      <td>0</td>\n",
       "      <td>0</td>\n",
       "      <td>1</td>\n",
       "      <td>0</td>\n",
       "      <td>0</td>\n",
       "      <td>1</td>\n",
       "      <td>0</td>\n",
       "      <td>0</td>\n",
       "      <td>0</td>\n",
       "      <td>...</td>\n",
       "      <td>0</td>\n",
       "      <td>0</td>\n",
       "      <td>0</td>\n",
       "      <td>1</td>\n",
       "      <td>0</td>\n",
       "      <td>0</td>\n",
       "      <td>0</td>\n",
       "      <td>0</td>\n",
       "      <td>0</td>\n",
       "      <td>0</td>\n",
       "    </tr>\n",
       "    <tr>\n",
       "      <th>1</th>\n",
       "      <td>0</td>\n",
       "      <td>0</td>\n",
       "      <td>0</td>\n",
       "      <td>0</td>\n",
       "      <td>0</td>\n",
       "      <td>0</td>\n",
       "      <td>1</td>\n",
       "      <td>0</td>\n",
       "      <td>0</td>\n",
       "      <td>0</td>\n",
       "      <td>...</td>\n",
       "      <td>0</td>\n",
       "      <td>0</td>\n",
       "      <td>0</td>\n",
       "      <td>0</td>\n",
       "      <td>0</td>\n",
       "      <td>0</td>\n",
       "      <td>0</td>\n",
       "      <td>0</td>\n",
       "      <td>0</td>\n",
       "      <td>0</td>\n",
       "    </tr>\n",
       "    <tr>\n",
       "      <th>2</th>\n",
       "      <td>0</td>\n",
       "      <td>1</td>\n",
       "      <td>0</td>\n",
       "      <td>0</td>\n",
       "      <td>0</td>\n",
       "      <td>0</td>\n",
       "      <td>1</td>\n",
       "      <td>0</td>\n",
       "      <td>1</td>\n",
       "      <td>0</td>\n",
       "      <td>...</td>\n",
       "      <td>0</td>\n",
       "      <td>0</td>\n",
       "      <td>0</td>\n",
       "      <td>0</td>\n",
       "      <td>0</td>\n",
       "      <td>0</td>\n",
       "      <td>0</td>\n",
       "      <td>0</td>\n",
       "      <td>0</td>\n",
       "      <td>0</td>\n",
       "    </tr>\n",
       "    <tr>\n",
       "      <th>3</th>\n",
       "      <td>1</td>\n",
       "      <td>1</td>\n",
       "      <td>0</td>\n",
       "      <td>1</td>\n",
       "      <td>0</td>\n",
       "      <td>0</td>\n",
       "      <td>1</td>\n",
       "      <td>0</td>\n",
       "      <td>1</td>\n",
       "      <td>0</td>\n",
       "      <td>...</td>\n",
       "      <td>0</td>\n",
       "      <td>0</td>\n",
       "      <td>0</td>\n",
       "      <td>0</td>\n",
       "      <td>0</td>\n",
       "      <td>0</td>\n",
       "      <td>0</td>\n",
       "      <td>0</td>\n",
       "      <td>0</td>\n",
       "      <td>0</td>\n",
       "    </tr>\n",
       "    <tr>\n",
       "      <th>4</th>\n",
       "      <td>1</td>\n",
       "      <td>0</td>\n",
       "      <td>0</td>\n",
       "      <td>0</td>\n",
       "      <td>0</td>\n",
       "      <td>0</td>\n",
       "      <td>0</td>\n",
       "      <td>0</td>\n",
       "      <td>0</td>\n",
       "      <td>0</td>\n",
       "      <td>...</td>\n",
       "      <td>0</td>\n",
       "      <td>0</td>\n",
       "      <td>0</td>\n",
       "      <td>0</td>\n",
       "      <td>0</td>\n",
       "      <td>1</td>\n",
       "      <td>0</td>\n",
       "      <td>1</td>\n",
       "      <td>0</td>\n",
       "      <td>0</td>\n",
       "    </tr>\n",
       "  </tbody>\n",
       "</table>\n",
       "<p>5 rows × 43 columns</p>\n",
       "</div>"
      ],
      "text/plain": [
       "   Action  Adventure  Cars  Comedy  Dementia  Demons  Drama  Ecchi  Fantasy  \\\n",
       "0       0          0     0       1         0       0      1      0        0   \n",
       "1       0          0     0       0         0       0      1      0        0   \n",
       "2       0          1     0       0         0       0      1      0        1   \n",
       "3       1          1     0       1         0       0      1      0        1   \n",
       "4       1          0     0       0         0       0      0      0        0   \n",
       "\n",
       "   Game  ...  Shounen Ai  Slice of Life  Space  Sports  Super Power  \\\n",
       "0     0  ...           0              0      0       1            0   \n",
       "1     0  ...           0              0      0       0            0   \n",
       "2     0  ...           0              0      0       0            0   \n",
       "3     0  ...           0              0      0       0            0   \n",
       "4     0  ...           0              0      0       0            0   \n",
       "\n",
       "   Supernatural  Thriller  Vampire  Yaoi  Yuri  \n",
       "0             0         0        0     0     0  \n",
       "1             0         0        0     0     0  \n",
       "2             0         0        0     0     0  \n",
       "3             0         0        0     0     0  \n",
       "4             1         0        1     0     0  \n",
       "\n",
       "[5 rows x 43 columns]"
      ]
     },
     "execution_count": 6,
     "metadata": {},
     "output_type": "execute_result"
    }
   ],
   "source": [
    "genre_encoding_df = anime_df['genre'].str.get_dummies(sep=', ')\n",
    "\n",
    "genre_encoding_df.head()"
   ]
  },
  {
   "attachments": {},
   "cell_type": "markdown",
   "metadata": {},
   "source": [
    "Merge the genre encoding with the main dataframe"
   ]
  },
  {
   "cell_type": "code",
   "execution_count": 7,
   "metadata": {},
   "outputs": [
    {
     "data": {
      "text/html": [
       "<div>\n",
       "<style scoped>\n",
       "    .dataframe tbody tr th:only-of-type {\n",
       "        vertical-align: middle;\n",
       "    }\n",
       "\n",
       "    .dataframe tbody tr th {\n",
       "        vertical-align: top;\n",
       "    }\n",
       "\n",
       "    .dataframe thead th {\n",
       "        text-align: right;\n",
       "    }\n",
       "</style>\n",
       "<table border=\"1\" class=\"dataframe\">\n",
       "  <thead>\n",
       "    <tr style=\"text-align: right;\">\n",
       "      <th></th>\n",
       "      <th>anime_uid</th>\n",
       "      <th>name</th>\n",
       "      <th>synopsis</th>\n",
       "      <th>episodes</th>\n",
       "      <th>members</th>\n",
       "      <th>popularity</th>\n",
       "      <th>score</th>\n",
       "      <th>Action</th>\n",
       "      <th>Adventure</th>\n",
       "      <th>Cars</th>\n",
       "      <th>...</th>\n",
       "      <th>Shounen Ai</th>\n",
       "      <th>Slice of Life</th>\n",
       "      <th>Space</th>\n",
       "      <th>Sports</th>\n",
       "      <th>Super Power</th>\n",
       "      <th>Supernatural</th>\n",
       "      <th>Thriller</th>\n",
       "      <th>Vampire</th>\n",
       "      <th>Yaoi</th>\n",
       "      <th>Yuri</th>\n",
       "    </tr>\n",
       "  </thead>\n",
       "  <tbody>\n",
       "    <tr>\n",
       "      <th>0</th>\n",
       "      <td>28891</td>\n",
       "      <td>Haikyuu Second Season</td>\n",
       "      <td>Following their participation at the Inter-Hig...</td>\n",
       "      <td>25.0</td>\n",
       "      <td>489888</td>\n",
       "      <td>141</td>\n",
       "      <td>8.82</td>\n",
       "      <td>0</td>\n",
       "      <td>0</td>\n",
       "      <td>0</td>\n",
       "      <td>...</td>\n",
       "      <td>0</td>\n",
       "      <td>0</td>\n",
       "      <td>0</td>\n",
       "      <td>1</td>\n",
       "      <td>0</td>\n",
       "      <td>0</td>\n",
       "      <td>0</td>\n",
       "      <td>0</td>\n",
       "      <td>0</td>\n",
       "      <td>0</td>\n",
       "    </tr>\n",
       "    <tr>\n",
       "      <th>1</th>\n",
       "      <td>23273</td>\n",
       "      <td>Shigatsu wa Kimi no Uso</td>\n",
       "      <td>Music accompanies the path of the human metron...</td>\n",
       "      <td>22.0</td>\n",
       "      <td>995473</td>\n",
       "      <td>28</td>\n",
       "      <td>8.83</td>\n",
       "      <td>0</td>\n",
       "      <td>0</td>\n",
       "      <td>0</td>\n",
       "      <td>...</td>\n",
       "      <td>0</td>\n",
       "      <td>0</td>\n",
       "      <td>0</td>\n",
       "      <td>0</td>\n",
       "      <td>0</td>\n",
       "      <td>0</td>\n",
       "      <td>0</td>\n",
       "      <td>0</td>\n",
       "      <td>0</td>\n",
       "      <td>0</td>\n",
       "    </tr>\n",
       "    <tr>\n",
       "      <th>2</th>\n",
       "      <td>34599</td>\n",
       "      <td>Made in Abyss</td>\n",
       "      <td>The Abyss—a gaping chasm stretching down into ...</td>\n",
       "      <td>13.0</td>\n",
       "      <td>581663</td>\n",
       "      <td>98</td>\n",
       "      <td>8.83</td>\n",
       "      <td>0</td>\n",
       "      <td>1</td>\n",
       "      <td>0</td>\n",
       "      <td>...</td>\n",
       "      <td>0</td>\n",
       "      <td>0</td>\n",
       "      <td>0</td>\n",
       "      <td>0</td>\n",
       "      <td>0</td>\n",
       "      <td>0</td>\n",
       "      <td>0</td>\n",
       "      <td>0</td>\n",
       "      <td>0</td>\n",
       "      <td>0</td>\n",
       "    </tr>\n",
       "    <tr>\n",
       "      <th>3</th>\n",
       "      <td>5114</td>\n",
       "      <td>Fullmetal Alchemist Brotherhood</td>\n",
       "      <td>\"In order for something to be obtained, someth...</td>\n",
       "      <td>64.0</td>\n",
       "      <td>1615084</td>\n",
       "      <td>4</td>\n",
       "      <td>9.23</td>\n",
       "      <td>1</td>\n",
       "      <td>1</td>\n",
       "      <td>0</td>\n",
       "      <td>...</td>\n",
       "      <td>0</td>\n",
       "      <td>0</td>\n",
       "      <td>0</td>\n",
       "      <td>0</td>\n",
       "      <td>0</td>\n",
       "      <td>0</td>\n",
       "      <td>0</td>\n",
       "      <td>0</td>\n",
       "      <td>0</td>\n",
       "      <td>0</td>\n",
       "    </tr>\n",
       "    <tr>\n",
       "      <th>4</th>\n",
       "      <td>31758</td>\n",
       "      <td>Kizumonogatari III Reiketsuhen</td>\n",
       "      <td>After helping revive the legendary vampire Kis...</td>\n",
       "      <td>1.0</td>\n",
       "      <td>214621</td>\n",
       "      <td>502</td>\n",
       "      <td>8.83</td>\n",
       "      <td>1</td>\n",
       "      <td>0</td>\n",
       "      <td>0</td>\n",
       "      <td>...</td>\n",
       "      <td>0</td>\n",
       "      <td>0</td>\n",
       "      <td>0</td>\n",
       "      <td>0</td>\n",
       "      <td>0</td>\n",
       "      <td>1</td>\n",
       "      <td>0</td>\n",
       "      <td>1</td>\n",
       "      <td>0</td>\n",
       "      <td>0</td>\n",
       "    </tr>\n",
       "  </tbody>\n",
       "</table>\n",
       "<p>5 rows × 50 columns</p>\n",
       "</div>"
      ],
      "text/plain": [
       "   anime_uid                             name  \\\n",
       "0      28891            Haikyuu Second Season   \n",
       "1      23273          Shigatsu wa Kimi no Uso   \n",
       "2      34599                    Made in Abyss   \n",
       "3       5114  Fullmetal Alchemist Brotherhood   \n",
       "4      31758   Kizumonogatari III Reiketsuhen   \n",
       "\n",
       "                                            synopsis  episodes  members  \\\n",
       "0  Following their participation at the Inter-Hig...      25.0   489888   \n",
       "1  Music accompanies the path of the human metron...      22.0   995473   \n",
       "2  The Abyss—a gaping chasm stretching down into ...      13.0   581663   \n",
       "3  \"In order for something to be obtained, someth...      64.0  1615084   \n",
       "4  After helping revive the legendary vampire Kis...       1.0   214621   \n",
       "\n",
       "   popularity  score  Action  Adventure  Cars  ...  Shounen Ai  Slice of Life  \\\n",
       "0         141   8.82       0          0     0  ...           0              0   \n",
       "1          28   8.83       0          0     0  ...           0              0   \n",
       "2          98   8.83       0          1     0  ...           0              0   \n",
       "3           4   9.23       1          1     0  ...           0              0   \n",
       "4         502   8.83       1          0     0  ...           0              0   \n",
       "\n",
       "   Space  Sports  Super Power  Supernatural  Thriller  Vampire  Yaoi  Yuri  \n",
       "0      0       1            0             0         0        0     0     0  \n",
       "1      0       0            0             0         0        0     0     0  \n",
       "2      0       0            0             0         0        0     0     0  \n",
       "3      0       0            0             0         0        0     0     0  \n",
       "4      0       0            0             1         0        1     0     0  \n",
       "\n",
       "[5 rows x 50 columns]"
      ]
     },
     "execution_count": 7,
     "metadata": {},
     "output_type": "execute_result"
    }
   ],
   "source": [
    "anime_df = pd.concat([anime_df, genre_encoding_df], axis=1)\n",
    "anime_df.drop(['genre'], axis=1, inplace=True)\n",
    "\n",
    "anime_df.head()"
   ]
  },
  {
   "attachments": {},
   "cell_type": "markdown",
   "metadata": {},
   "source": [
    "Feature Selection for clustering"
   ]
  },
  {
   "cell_type": "code",
   "execution_count": 35,
   "metadata": {},
   "outputs": [
    {
     "name": "stdout",
     "output_type": "stream",
     "text": [
      "['episodes', 'members', 'popularity', 'score']\n"
     ]
    }
   ],
   "source": [
    "selected_features = ['episodes', 'members', 'popularity', 'score'] + genre_encoding_df.columns.tolist()\n",
    "# selected_features = ['episodes', 'members', 'popularity', 'score']\n",
    "\n",
    "print(selected_features)"
   ]
  },
  {
   "attachments": {},
   "cell_type": "markdown",
   "metadata": {},
   "source": [
    "Scaling -> Scale the selected features so that they have similar ranges. Here, we will use MinMaxScaler to scale the values between 0 and 1."
   ]
  },
  {
   "cell_type": "code",
   "execution_count": 41,
   "metadata": {},
   "outputs": [
    {
     "data": {
      "text/html": [
       "<div>\n",
       "<style scoped>\n",
       "    .dataframe tbody tr th:only-of-type {\n",
       "        vertical-align: middle;\n",
       "    }\n",
       "\n",
       "    .dataframe tbody tr th {\n",
       "        vertical-align: top;\n",
       "    }\n",
       "\n",
       "    .dataframe thead th {\n",
       "        text-align: right;\n",
       "    }\n",
       "</style>\n",
       "<table border=\"1\" class=\"dataframe\">\n",
       "  <thead>\n",
       "    <tr style=\"text-align: right;\">\n",
       "      <th></th>\n",
       "      <th>0</th>\n",
       "      <th>1</th>\n",
       "      <th>2</th>\n",
       "      <th>3</th>\n",
       "      <th>Action</th>\n",
       "      <th>Adventure</th>\n",
       "      <th>Cars</th>\n",
       "      <th>Comedy</th>\n",
       "      <th>Dementia</th>\n",
       "      <th>Demons</th>\n",
       "      <th>...</th>\n",
       "      <th>Shounen Ai</th>\n",
       "      <th>Slice of Life</th>\n",
       "      <th>Space</th>\n",
       "      <th>Sports</th>\n",
       "      <th>Super Power</th>\n",
       "      <th>Supernatural</th>\n",
       "      <th>Thriller</th>\n",
       "      <th>Vampire</th>\n",
       "      <th>Yaoi</th>\n",
       "      <th>Yuri</th>\n",
       "    </tr>\n",
       "  </thead>\n",
       "  <tbody>\n",
       "    <tr>\n",
       "      <th>0</th>\n",
       "      <td>0.007853</td>\n",
       "      <td>0.261816</td>\n",
       "      <td>0.008579</td>\n",
       "      <td>0.944065</td>\n",
       "      <td>0.0</td>\n",
       "      <td>0.0</td>\n",
       "      <td>0.0</td>\n",
       "      <td>1.0</td>\n",
       "      <td>0.0</td>\n",
       "      <td>0.0</td>\n",
       "      <td>...</td>\n",
       "      <td>0.0</td>\n",
       "      <td>0.0</td>\n",
       "      <td>0.0</td>\n",
       "      <td>1.0</td>\n",
       "      <td>0.0</td>\n",
       "      <td>0.0</td>\n",
       "      <td>0.0</td>\n",
       "      <td>0.0</td>\n",
       "      <td>0.0</td>\n",
       "      <td>0.0</td>\n",
       "    </tr>\n",
       "    <tr>\n",
       "      <th>1</th>\n",
       "      <td>0.006872</td>\n",
       "      <td>0.532036</td>\n",
       "      <td>0.001655</td>\n",
       "      <td>0.945430</td>\n",
       "      <td>0.0</td>\n",
       "      <td>0.0</td>\n",
       "      <td>0.0</td>\n",
       "      <td>0.0</td>\n",
       "      <td>0.0</td>\n",
       "      <td>0.0</td>\n",
       "      <td>...</td>\n",
       "      <td>0.0</td>\n",
       "      <td>0.0</td>\n",
       "      <td>0.0</td>\n",
       "      <td>0.0</td>\n",
       "      <td>0.0</td>\n",
       "      <td>0.0</td>\n",
       "      <td>0.0</td>\n",
       "      <td>0.0</td>\n",
       "      <td>0.0</td>\n",
       "      <td>0.0</td>\n",
       "    </tr>\n",
       "    <tr>\n",
       "      <th>2</th>\n",
       "      <td>0.003927</td>\n",
       "      <td>0.310867</td>\n",
       "      <td>0.005944</td>\n",
       "      <td>0.945430</td>\n",
       "      <td>0.0</td>\n",
       "      <td>1.0</td>\n",
       "      <td>0.0</td>\n",
       "      <td>0.0</td>\n",
       "      <td>0.0</td>\n",
       "      <td>0.0</td>\n",
       "      <td>...</td>\n",
       "      <td>0.0</td>\n",
       "      <td>0.0</td>\n",
       "      <td>0.0</td>\n",
       "      <td>0.0</td>\n",
       "      <td>0.0</td>\n",
       "      <td>0.0</td>\n",
       "      <td>0.0</td>\n",
       "      <td>0.0</td>\n",
       "      <td>0.0</td>\n",
       "      <td>0.0</td>\n",
       "    </tr>\n",
       "    <tr>\n",
       "      <th>3</th>\n",
       "      <td>0.020615</td>\n",
       "      <td>0.863198</td>\n",
       "      <td>0.000184</td>\n",
       "      <td>1.000000</td>\n",
       "      <td>1.0</td>\n",
       "      <td>1.0</td>\n",
       "      <td>0.0</td>\n",
       "      <td>1.0</td>\n",
       "      <td>0.0</td>\n",
       "      <td>0.0</td>\n",
       "      <td>...</td>\n",
       "      <td>0.0</td>\n",
       "      <td>0.0</td>\n",
       "      <td>0.0</td>\n",
       "      <td>0.0</td>\n",
       "      <td>0.0</td>\n",
       "      <td>0.0</td>\n",
       "      <td>0.0</td>\n",
       "      <td>0.0</td>\n",
       "      <td>0.0</td>\n",
       "      <td>0.0</td>\n",
       "    </tr>\n",
       "    <tr>\n",
       "      <th>4</th>\n",
       "      <td>0.000000</td>\n",
       "      <td>0.114695</td>\n",
       "      <td>0.030700</td>\n",
       "      <td>0.945430</td>\n",
       "      <td>1.0</td>\n",
       "      <td>0.0</td>\n",
       "      <td>0.0</td>\n",
       "      <td>0.0</td>\n",
       "      <td>0.0</td>\n",
       "      <td>0.0</td>\n",
       "      <td>...</td>\n",
       "      <td>0.0</td>\n",
       "      <td>0.0</td>\n",
       "      <td>0.0</td>\n",
       "      <td>0.0</td>\n",
       "      <td>0.0</td>\n",
       "      <td>1.0</td>\n",
       "      <td>0.0</td>\n",
       "      <td>1.0</td>\n",
       "      <td>0.0</td>\n",
       "      <td>0.0</td>\n",
       "    </tr>\n",
       "  </tbody>\n",
       "</table>\n",
       "<p>5 rows × 47 columns</p>\n",
       "</div>"
      ],
      "text/plain": [
       "          0         1         2         3  Action  Adventure  Cars  Comedy  \\\n",
       "0  0.007853  0.261816  0.008579  0.944065     0.0        0.0   0.0     1.0   \n",
       "1  0.006872  0.532036  0.001655  0.945430     0.0        0.0   0.0     0.0   \n",
       "2  0.003927  0.310867  0.005944  0.945430     0.0        1.0   0.0     0.0   \n",
       "3  0.020615  0.863198  0.000184  1.000000     1.0        1.0   0.0     1.0   \n",
       "4  0.000000  0.114695  0.030700  0.945430     1.0        0.0   0.0     0.0   \n",
       "\n",
       "   Dementia  Demons  ...  Shounen Ai  Slice of Life  Space  Sports  \\\n",
       "0       0.0     0.0  ...         0.0            0.0    0.0     1.0   \n",
       "1       0.0     0.0  ...         0.0            0.0    0.0     0.0   \n",
       "2       0.0     0.0  ...         0.0            0.0    0.0     0.0   \n",
       "3       0.0     0.0  ...         0.0            0.0    0.0     0.0   \n",
       "4       0.0     0.0  ...         0.0            0.0    0.0     0.0   \n",
       "\n",
       "   Super Power  Supernatural  Thriller  Vampire  Yaoi  Yuri  \n",
       "0          0.0           0.0       0.0      0.0   0.0   0.0  \n",
       "1          0.0           0.0       0.0      0.0   0.0   0.0  \n",
       "2          0.0           0.0       0.0      0.0   0.0   0.0  \n",
       "3          0.0           0.0       0.0      0.0   0.0   0.0  \n",
       "4          0.0           1.0       0.0      1.0   0.0   0.0  \n",
       "\n",
       "[5 rows x 47 columns]"
      ]
     },
     "execution_count": 41,
     "metadata": {},
     "output_type": "execute_result"
    }
   ],
   "source": [
    "scaler = MinMaxScaler()\n",
    "scaled_anime = scaler.fit_transform(anime_df[selected_features])\n",
    "\n",
    "# scaled_anime_pd = pd.DataFrame(scaled_anime)\n",
    "# scaled_anime_pd = pd.concat([scaled_anime_pd, genre_encoding_df], axis=1)\n",
    "# scaled_anime_pd.head()\n",
    "print(scaled_anime)"
   ]
  },
  {
   "attachments": {},
   "cell_type": "markdown",
   "metadata": {},
   "source": [
    "Clustering"
   ]
  },
  {
   "attachments": {},
   "cell_type": "markdown",
   "metadata": {},
   "source": [
    "Determine the number of clusters K to use using the elbow method and silhouette scores"
   ]
  },
  {
   "cell_type": "code",
   "execution_count": 10,
   "metadata": {},
   "outputs": [],
   "source": [
    "# compute the number of clusters to use\n",
    "sse = [] #sum of squared errors\n",
    "\n",
    "# silhouette scores range from -1 to 1: \n",
    "# 1 = points are perfectly assigned in a clsuter and clusters are easily distinguishable\n",
    "# 0 = clusters are overlapping\n",
    "# -1 = points are wrongly assigned in a cluster\n",
    "\n",
    "silhouette_coefficients = []\n",
    "\n",
    "for k in range(2, 11):\n",
    "    kmeans = KMeans(n_clusters = k, n_init = 10) #max_iter = 100\n",
    "    kmeans.fit(scaled_anime)\n",
    "    sse.append(kmeans.inertia_)\n",
    "\n",
    "    ss = silhouette_score(scaled_anime, kmeans.labels_)\n",
    "    silhouette_coefficients.append(ss)"
   ]
  },
  {
   "cell_type": "code",
   "execution_count": null,
   "metadata": {},
   "outputs": [],
   "source": [
    "print(\"SSE: \", sse)\n",
    "print(\"Silhouette scores: \", silhouette_coefficients)"
   ]
  },
  {
   "cell_type": "code",
   "execution_count": null,
   "metadata": {},
   "outputs": [],
   "source": [
    "plt.plot(range(2, 11), sse)\n",
    "plt.xticks(range(2, 11))\n",
    "plt.xlabel(\"Number of Clusters\")\n",
    "plt.ylabel(\"SSE\")\n",
    "plt.show()"
   ]
  },
  {
   "cell_type": "code",
   "execution_count": null,
   "metadata": {},
   "outputs": [],
   "source": [
    "plt.plot(range(2, 11), silhouette_coefficients)\n",
    "plt.xticks(range(2, 11))\n",
    "plt.xlabel(\"Number of Clusters\")\n",
    "plt.ylabel(\"Silhouette coefficients\")\n",
    "plt.show()"
   ]
  },
  {
   "attachments": {},
   "cell_type": "markdown",
   "metadata": {},
   "source": [
    "Using K = 8 after observing the results from the above 2 graphs (elbow method and silhouette scores)"
   ]
  },
  {
   "cell_type": "code",
   "execution_count": 11,
   "metadata": {},
   "outputs": [],
   "source": [
    "kmeans = KMeans(n_clusters=8, random_state=42, n_init=10)\n",
    "anime_clusters_before_pca = kmeans.fit_predict(scaled_anime)"
   ]
  },
  {
   "attachments": {},
   "cell_type": "markdown",
   "metadata": {},
   "source": [
    "Observing recommendations before PCA"
   ]
  },
  {
   "cell_type": "code",
   "execution_count": 12,
   "metadata": {},
   "outputs": [],
   "source": [
    "# return a list of similar anime that belong to the same cluster as the input anime\n",
    "def get_similar_anime(anime_name):\n",
    "    anime_index = anime_df[anime_df['name'] == anime_name].index[0]\n",
    "    anime_cluster = anime_clusters_before_pca[anime_index]\n",
    "    similar_anime_indexes = [i for i, cluster in enumerate(anime_clusters_before_pca) if cluster == anime_cluster and i != anime_index]\n",
    "    similar_anime = anime_df.iloc[similar_anime_indexes]['name'].tolist()\n",
    "    \n",
    "    return similar_anime[:11]"
   ]
  },
  {
   "cell_type": "code",
   "execution_count": 13,
   "metadata": {},
   "outputs": [
    {
     "data": {
      "text/plain": [
       "['Made in Abyss',\n",
       " 'Fullmetal Alchemist Brotherhood',\n",
       " 'Saint Seiya Meiou Hades Meikaihen',\n",
       " 'Noragami OVA',\n",
       " 'Lupin III Part II',\n",
       " 'InuYasha Movie 3 Tenka Hadou no Ken',\n",
       " 'Gate Jieitai Kanochi nite Kaku Tatakaeri 2nd Season',\n",
       " 'Digimon Adventure',\n",
       " 'Heartcatch Precure',\n",
       " 'Bleach',\n",
       " 'Wolfs Rain']"
      ]
     },
     "execution_count": 13,
     "metadata": {},
     "output_type": "execute_result"
    }
   ],
   "source": [
    "get_similar_anime('Death Note')"
   ]
  },
  {
   "attachments": {},
   "cell_type": "markdown",
   "metadata": {},
   "source": [
    "Dimensionality Reduction"
   ]
  },
  {
   "attachments": {},
   "cell_type": "markdown",
   "metadata": {},
   "source": [
    "Using PCA to reduce the number of features to help improve the clustering results"
   ]
  },
  {
   "cell_type": "code",
   "execution_count": null,
   "metadata": {},
   "outputs": [],
   "source": [
    "anime_df.shape"
   ]
  },
  {
   "cell_type": "code",
   "execution_count": 14,
   "metadata": {},
   "outputs": [
    {
     "data": {
      "text/html": [
       "<div>\n",
       "<style scoped>\n",
       "    .dataframe tbody tr th:only-of-type {\n",
       "        vertical-align: middle;\n",
       "    }\n",
       "\n",
       "    .dataframe tbody tr th {\n",
       "        vertical-align: top;\n",
       "    }\n",
       "\n",
       "    .dataframe thead th {\n",
       "        text-align: right;\n",
       "    }\n",
       "</style>\n",
       "<table border=\"1\" class=\"dataframe\">\n",
       "  <thead>\n",
       "    <tr style=\"text-align: right;\">\n",
       "      <th></th>\n",
       "      <th>episodes</th>\n",
       "      <th>members</th>\n",
       "      <th>popularity</th>\n",
       "      <th>score</th>\n",
       "      <th>Action</th>\n",
       "      <th>Adventure</th>\n",
       "      <th>Cars</th>\n",
       "      <th>Comedy</th>\n",
       "      <th>Dementia</th>\n",
       "      <th>Demons</th>\n",
       "      <th>...</th>\n",
       "      <th>Shounen Ai</th>\n",
       "      <th>Slice of Life</th>\n",
       "      <th>Space</th>\n",
       "      <th>Sports</th>\n",
       "      <th>Super Power</th>\n",
       "      <th>Supernatural</th>\n",
       "      <th>Thriller</th>\n",
       "      <th>Vampire</th>\n",
       "      <th>Yaoi</th>\n",
       "      <th>Yuri</th>\n",
       "    </tr>\n",
       "  </thead>\n",
       "  <tbody>\n",
       "    <tr>\n",
       "      <th>0</th>\n",
       "      <td>25.0</td>\n",
       "      <td>489888</td>\n",
       "      <td>141</td>\n",
       "      <td>8.82</td>\n",
       "      <td>0</td>\n",
       "      <td>0</td>\n",
       "      <td>0</td>\n",
       "      <td>1</td>\n",
       "      <td>0</td>\n",
       "      <td>0</td>\n",
       "      <td>...</td>\n",
       "      <td>0</td>\n",
       "      <td>0</td>\n",
       "      <td>0</td>\n",
       "      <td>1</td>\n",
       "      <td>0</td>\n",
       "      <td>0</td>\n",
       "      <td>0</td>\n",
       "      <td>0</td>\n",
       "      <td>0</td>\n",
       "      <td>0</td>\n",
       "    </tr>\n",
       "    <tr>\n",
       "      <th>1</th>\n",
       "      <td>22.0</td>\n",
       "      <td>995473</td>\n",
       "      <td>28</td>\n",
       "      <td>8.83</td>\n",
       "      <td>0</td>\n",
       "      <td>0</td>\n",
       "      <td>0</td>\n",
       "      <td>0</td>\n",
       "      <td>0</td>\n",
       "      <td>0</td>\n",
       "      <td>...</td>\n",
       "      <td>0</td>\n",
       "      <td>0</td>\n",
       "      <td>0</td>\n",
       "      <td>0</td>\n",
       "      <td>0</td>\n",
       "      <td>0</td>\n",
       "      <td>0</td>\n",
       "      <td>0</td>\n",
       "      <td>0</td>\n",
       "      <td>0</td>\n",
       "    </tr>\n",
       "    <tr>\n",
       "      <th>2</th>\n",
       "      <td>13.0</td>\n",
       "      <td>581663</td>\n",
       "      <td>98</td>\n",
       "      <td>8.83</td>\n",
       "      <td>0</td>\n",
       "      <td>1</td>\n",
       "      <td>0</td>\n",
       "      <td>0</td>\n",
       "      <td>0</td>\n",
       "      <td>0</td>\n",
       "      <td>...</td>\n",
       "      <td>0</td>\n",
       "      <td>0</td>\n",
       "      <td>0</td>\n",
       "      <td>0</td>\n",
       "      <td>0</td>\n",
       "      <td>0</td>\n",
       "      <td>0</td>\n",
       "      <td>0</td>\n",
       "      <td>0</td>\n",
       "      <td>0</td>\n",
       "    </tr>\n",
       "    <tr>\n",
       "      <th>3</th>\n",
       "      <td>64.0</td>\n",
       "      <td>1615084</td>\n",
       "      <td>4</td>\n",
       "      <td>9.23</td>\n",
       "      <td>1</td>\n",
       "      <td>1</td>\n",
       "      <td>0</td>\n",
       "      <td>1</td>\n",
       "      <td>0</td>\n",
       "      <td>0</td>\n",
       "      <td>...</td>\n",
       "      <td>0</td>\n",
       "      <td>0</td>\n",
       "      <td>0</td>\n",
       "      <td>0</td>\n",
       "      <td>0</td>\n",
       "      <td>0</td>\n",
       "      <td>0</td>\n",
       "      <td>0</td>\n",
       "      <td>0</td>\n",
       "      <td>0</td>\n",
       "    </tr>\n",
       "    <tr>\n",
       "      <th>4</th>\n",
       "      <td>1.0</td>\n",
       "      <td>214621</td>\n",
       "      <td>502</td>\n",
       "      <td>8.83</td>\n",
       "      <td>1</td>\n",
       "      <td>0</td>\n",
       "      <td>0</td>\n",
       "      <td>0</td>\n",
       "      <td>0</td>\n",
       "      <td>0</td>\n",
       "      <td>...</td>\n",
       "      <td>0</td>\n",
       "      <td>0</td>\n",
       "      <td>0</td>\n",
       "      <td>0</td>\n",
       "      <td>0</td>\n",
       "      <td>1</td>\n",
       "      <td>0</td>\n",
       "      <td>1</td>\n",
       "      <td>0</td>\n",
       "      <td>0</td>\n",
       "    </tr>\n",
       "  </tbody>\n",
       "</table>\n",
       "<p>5 rows × 47 columns</p>\n",
       "</div>"
      ],
      "text/plain": [
       "   episodes  members  popularity  score  Action  Adventure  Cars  Comedy  \\\n",
       "0      25.0   489888         141   8.82       0          0     0       1   \n",
       "1      22.0   995473          28   8.83       0          0     0       0   \n",
       "2      13.0   581663          98   8.83       0          1     0       0   \n",
       "3      64.0  1615084           4   9.23       1          1     0       1   \n",
       "4       1.0   214621         502   8.83       1          0     0       0   \n",
       "\n",
       "   Dementia  Demons  ...  Shounen Ai  Slice of Life  Space  Sports  \\\n",
       "0         0       0  ...           0              0      0       1   \n",
       "1         0       0  ...           0              0      0       0   \n",
       "2         0       0  ...           0              0      0       0   \n",
       "3         0       0  ...           0              0      0       0   \n",
       "4         0       0  ...           0              0      0       0   \n",
       "\n",
       "   Super Power  Supernatural  Thriller  Vampire  Yaoi  Yuri  \n",
       "0            0             0         0        0     0     0  \n",
       "1            0             0         0        0     0     0  \n",
       "2            0             0         0        0     0     0  \n",
       "3            0             0         0        0     0     0  \n",
       "4            0             1         0        1     0     0  \n",
       "\n",
       "[5 rows x 47 columns]"
      ]
     },
     "execution_count": 14,
     "metadata": {},
     "output_type": "execute_result"
    }
   ],
   "source": [
    "pca_anime_df = anime_df.copy()\n",
    "pca_anime_df = pca_anime_df[selected_features]\n",
    "\n",
    "pca_anime_df.head()"
   ]
  },
  {
   "cell_type": "code",
   "execution_count": 15,
   "metadata": {},
   "outputs": [],
   "source": [
    "pca = PCA().fit(pca_anime_df)\n",
    "explained_variance = pca.explained_variance_ratio_\n",
    "cumulative_variance = explained_variance.cumsum()"
   ]
  },
  {
   "cell_type": "code",
   "execution_count": 16,
   "metadata": {},
   "outputs": [
    {
     "data": {
      "image/png": "[encoded data removed]",
      "text/plain": [
       "<Figure size 640x480 with 1 Axes>"
      ]
     },
     "metadata": {},
     "output_type": "display_data"
    }
   ],
   "source": [
    "plt.plot(range(1, len(cumulative_variance) + 1), cumulative_variance)\n",
    "plt.xlabel('Number of Components')\n",
    "plt.ylabel('Cumulative Explained Variance')\n",
    "plt.show()"
   ]
  },
  {
   "cell_type": "code",
   "execution_count": 17,
   "metadata": {},
   "outputs": [],
   "source": [
    "pca = PCA(n_components=5)\n",
    "pca_result = pca.fit_transform(pca_anime_df)"
   ]
  },
  {
   "cell_type": "code",
   "execution_count": null,
   "metadata": {},
   "outputs": [],
   "source": [
    "# kmeans = KMeans(n_clusters=4, random_state=42, n_init=10)\n",
    "# kmeans.fit(pca_result)\n",
    "# anime_clusters_after_pca = kmeans.predict(pca_result)"
   ]
  },
  {
   "cell_type": "code",
   "execution_count": null,
   "metadata": {},
   "outputs": [],
   "source": [
    "# print(\"Silhouette score:\", silhouette_score(pca_result, anime_clusters_after_pca))\n",
    "# print(anime_df['name'].groupby(anime_clusters).count())"
   ]
  },
  {
   "attachments": {},
   "cell_type": "markdown",
   "metadata": {},
   "source": [
    "Calculate optimal K for clustering after PCA"
   ]
  },
  {
   "cell_type": "code",
   "execution_count": 18,
   "metadata": {},
   "outputs": [],
   "source": [
    "# compute the number of clusters to use\n",
    "sse = [] #sum of squared errors\n",
    "\n",
    "# silhouette scores range from -1 to 1: \n",
    "# 1 = points are perfectly assigned in a clsuter and clusters are easily distinguishable\n",
    "# 0 = clusters are overlapping\n",
    "# -1 = points are wrongly assigned in a cluster\n",
    "\n",
    "silhouette_coefficients = []\n",
    "\n",
    "for k in range(2, 11):\n",
    "    kmeans = KMeans(n_clusters = k, n_init = 10) #max_iter = 100\n",
    "    kmeans.fit(pca_result)\n",
    "    sse.append(kmeans.inertia_)\n",
    "\n",
    "    ss = silhouette_score(pca_result, kmeans.labels_)\n",
    "    silhouette_coefficients.append(ss)"
   ]
  },
  {
   "cell_type": "code",
   "execution_count": 19,
   "metadata": {},
   "outputs": [
    {
     "data": {
      "image/png": "[encoded data removed]",
      "text/plain": [
       "<Figure size 640x480 with 1 Axes>"
      ]
     },
     "metadata": {},
     "output_type": "display_data"
    }
   ],
   "source": [
    "plt.plot(range(2, 11), sse)\n",
    "plt.xticks(range(2, 11))\n",
    "plt.xlabel(\"Number of Clusters\")\n",
    "plt.ylabel(\"SSE\")\n",
    "plt.show()"
   ]
  },
  {
   "cell_type": "code",
   "execution_count": 20,
   "metadata": {},
   "outputs": [
    {
     "data": {
      "image/png": "[encoded data removed]",
      "text/plain": [
       "<Figure size 640x480 with 1 Axes>"
      ]
     },
     "metadata": {},
     "output_type": "display_data"
    }
   ],
   "source": [
    "plt.plot(range(2, 11), silhouette_coefficients)\n",
    "plt.xticks(range(2, 11))\n",
    "plt.xlabel(\"Number of Clusters\")\n",
    "plt.ylabel(\"Silhouette coefficients\")\n",
    "plt.show()"
   ]
  },
  {
   "attachments": {},
   "cell_type": "markdown",
   "metadata": {},
   "source": [
    "From the above 2 graphs, the elbow point and silhouette scores indicate that the optimal value for K = 4."
   ]
  },
  {
   "cell_type": "code",
   "execution_count": 21,
   "metadata": {},
   "outputs": [],
   "source": [
    "kmeans = KMeans(n_clusters=4, random_state=42, n_init=10)\n",
    "kmeans.fit(pca_result)\n",
    "anime_clusters_after_pca = kmeans.predict(pca_result)"
   ]
  },
  {
   "attachments": {},
   "cell_type": "markdown",
   "metadata": {},
   "source": [
    "Recommend Similar Anime"
   ]
  },
  {
   "cell_type": "code",
   "execution_count": 22,
   "metadata": {},
   "outputs": [],
   "source": [
    "# return a list of similar anime that belong to the same cluster as the input anime\n",
    "def get_similar_anime(anime_name):\n",
    "    anime_index = anime_df[anime_df['name'] == anime_name].index[0]\n",
    "    anime_cluster = anime_clusters_after_pca[anime_index]\n",
    "    similar_anime_indexes = [i for i, cluster in enumerate(anime_clusters_after_pca) if cluster == anime_cluster and i != anime_index]\n",
    "    similar_anime = anime_df.iloc[similar_anime_indexes]['name'].tolist()\n",
    "    \n",
    "    return similar_anime[:11]"
   ]
  },
  {
   "cell_type": "code",
   "execution_count": 23,
   "metadata": {},
   "outputs": [
    {
     "data": {
      "text/plain": [
       "['Kizumonogatari III Reiketsuhen',\n",
       " 'Owarimonogatari 2nd Season',\n",
       " 'Gintama',\n",
       " 'Gintama Movie 2 Kanketsuhen  Yorozuya yo Eien Nare',\n",
       " 'Gintama Enchousen',\n",
       " 'Kaguyahime no Monogatari',\n",
       " 'Noragami OVA',\n",
       " 'Kobayashisan Chi no Maid Dragon Valentine Soshite Onsen  Amari Kitai Shinaide Kudasai',\n",
       " 'KOn Live House',\n",
       " 'Gekkan Shoujo Nozakikun Specials',\n",
       " 'Doukyonin wa Hiza Tokidoki Atama no Ue']"
      ]
     },
     "execution_count": 23,
     "metadata": {},
     "output_type": "execute_result"
    }
   ],
   "source": [
    "get_similar_anime('Death Note')"
   ]
  },
  {
   "attachments": {},
   "cell_type": "markdown",
   "metadata": {},
   "source": [
    "BEFORE PCA - DEATH NOTE\n",
    "\n",
    "['Made in Abyss',\n",
    " 'Fullmetal Alchemist Brotherhood',\n",
    " 'Saint Seiya Meiou Hades Meikaihen',\n",
    " 'Noragami OVA',\n",
    " 'Lupin III Part II',\n",
    " 'InuYasha Movie 3 Tenka Hadou no Ken',\n",
    " 'Gate Jieitai Kanochi nite Kaku Tatakaeri 2nd Season',\n",
    " 'Digimon Adventure',\n",
    " 'Heartcatch Precure',\n",
    " 'Bleach',\n",
    " 'Wolfs Rain']\n",
    "\n",
    "\n",
    "\n",
    "AFTER PCA - DEATH NOTE\n",
    "\n",
    "['Kizumonogatari III Reiketsuhen',\n",
    " 'Owarimonogatari 2nd Season',\n",
    " 'Gintama',\n",
    " 'Gintama Movie 2 Kanketsuhen  Yorozuya yo Eien Nare',\n",
    " 'Gintama Enchousen',\n",
    " 'Kaguyahime no Monogatari',\n",
    " 'Noragami OVA',\n",
    " 'Kobayashisan Chi no Maid Dragon Valentine Soshite Onsen  Amari Kitai Shinaide Kudasai',\n",
    " 'KOn Live House',\n",
    " 'Gekkan Shoujo Nozakikun Specials',\n",
    " 'Doukyonin wa Hiza Tokidoki Atama no Ue']"
   ]
  },
  {
   "cell_type": "code",
   "execution_count": 24,
   "metadata": {},
   "outputs": [],
   "source": [
    "def cluster_plot(data, nclusters):\n",
    "    import matplotlib.pyplot as plt\n",
    "    from sklearn.cluster import KMeans\n",
    "    X = data.copy()\n",
    "\n",
    "    km = KMeans(n_clusters=nclusters, init='random', n_init=10, max_iter=300, tol=1e-04, random_state=0)\n",
    "    y_km = km.fit_predict(X)\n",
    "\n",
    "\n",
    "    # Visualize it:\n",
    "    plt.figure(figsize=(8, 6))\n",
    "    plt.scatter(X.iloc[:,0], X.iloc[:,1], c=km.labels_.astype(float))\n",
    "\n",
    "    # plot the centroids\n",
    "    plt.scatter(km.cluster_centers_[:, 0], km.cluster_centers_[:, 1], s=250, marker='*', c='red', label='centroids')\n",
    "    plt.legend(scatterpoints=1)\n",
    "    plt.grid()\n",
    "    plt.show()"
   ]
  },
  {
   "cell_type": "code",
   "execution_count": 29,
   "metadata": {},
   "outputs": [
    {
     "data": {
      "image/png": "[encoded data removed]",
      "text/plain": [
       "<Figure size 800x600 with 1 Axes>"
      ]
     },
     "metadata": {},
     "output_type": "display_data"
    }
   ],
   "source": [
    "pca_pd = pd.DataFrame(pca_result)\n",
    "cluster_plot(pca_pd, 4)"
   ]
  },
  {
   "cell_type": "code",
   "execution_count": 34,
   "metadata": {},
   "outputs": [
    {
     "data": {
      "image/png": "[encoded data removed]",
      "text/plain": [
       "<Figure size 800x600 with 1 Axes>"
      ]
     },
     "metadata": {},
     "output_type": "display_data"
    }
   ],
   "source": [
    "before_pca = pd.DataFrame(scaled_anime)\n",
    "# before_pca.head()\n",
    "cluster_plot(before_pca, 8)"
   ]
  },
  {
   "cell_type": "code",
   "execution_count": null,
   "metadata": {},
   "outputs": [],
   "source": [
    "# separate genres into separate columns, with a maximum of 5 different genres to limit the dimensions of the dataframe\n",
    "genres = merged_anime_reviews_df['genre'].str.split(\",\", expand=True)\n",
    "genres = genres.iloc[:,:5]\n",
    "genres.columns = ['genre1', 'genre2', 'genre3','genre4', 'genre5']\n",
    "\n",
    "genres.head(10)"
   ]
  },
  {
   "cell_type": "code",
   "execution_count": null,
   "metadata": {},
   "outputs": [],
   "source": [
    "merged_anime_reviews_df.drop(columns='genre', axis=1, inplace=True)\n",
    "merged_anime_reviews_df = pd.concat([merged_anime_reviews_df, genres], axis=1)\n",
    "\n",
    "merged_anime_reviews_df.head()"
   ]
  },
  {
   "cell_type": "markdown",
   "metadata": {},
   "source": [
    "Separating the Scores column"
   ]
  },
  {
   "cell_type": "code",
   "execution_count": null,
   "metadata": {},
   "outputs": [],
   "source": [
    "# merged_anime_reviews_df['scores'] = [merged_anime_reviews_df['scores'][0].translate({ord(i): \"\" for i in \"{}'\"}) for anime in merged_anime_reviews_df['scores']]\n",
    "\n",
    "merged_anime_reviews_df['scores'] = merged_anime_reviews_df['scores'].str.replace(\"'\", \"\", regex=False)\n",
    "merged_anime_reviews_df['scores'] = merged_anime_reviews_df['scores'].str.replace(\"{\", \"\", regex=False)\n",
    "merged_anime_reviews_df['scores'] = merged_anime_reviews_df['scores'].str.replace(\"}\", \"\", regex=False)\n",
    "\n",
    "merged_anime_reviews_df.head(5)"
   ]
  },
  {
   "cell_type": "code",
   "execution_count": null,
   "metadata": {},
   "outputs": [],
   "source": [
    "merged_anime_reviews_df['scores'] = [re.sub(\"[^0-9,]\", \"\", anime) for anime in merged_anime_reviews_df['scores']]\n",
    "merged_anime_reviews_df.head()"
   ]
  },
  {
   "cell_type": "code",
   "execution_count": null,
   "metadata": {},
   "outputs": [],
   "source": [
    "# Order of columns -> Overall: 7, Story: 7, Animation: 9, Sound: 8, Character: 8, Enjoyment: 8\n",
    "ratings = merged_anime_reviews_df['scores'].str.split(\",\", expand=True)\n",
    "ratings.columns = ['Overall', 'Story', 'Animation','Sound', 'Character', 'Enjoyment']\n",
    "\n",
    "ratings.head(10)"
   ]
  },
  {
   "cell_type": "code",
   "execution_count": null,
   "metadata": {},
   "outputs": [],
   "source": [
    "merged_anime_reviews_df.drop(['score_y', 'scores'], axis=1, inplace=True)\n",
    "merged_anime_reviews_df = pd.concat([merged_anime_reviews_df, ratings], axis=1)\n",
    "\n",
    "merged_anime_reviews_df.head()"
   ]
  },
  {
   "attachments": {},
   "cell_type": "markdown",
   "metadata": {},
   "source": [
    "1.3 Deal with missing values"
   ]
  },
  {
   "cell_type": "code",
   "execution_count": null,
   "metadata": {},
   "outputs": [],
   "source": [
    "# see how many null values are present within our merged dataframe (merged_anime_reviews_df)\n",
    "missing_value = pd.DataFrame({\n",
    "    'Missing Value': merged_anime_reviews_df.isnull().sum()\n",
    "})\n",
    "display(missing_value)"
   ]
  },
  {
   "cell_type": "code",
   "execution_count": null,
   "metadata": {},
   "outputs": [],
   "source": [
    "# see how many null values are present within our initial dataset (anime_df)\n",
    "anime_df.isnull().sum()"
   ]
  },
  {
   "cell_type": "code",
   "execution_count": null,
   "metadata": {},
   "outputs": [],
   "source": [
    "# remove all null values from both dataframes\n",
    "merged_anime_reviews_df.dropna(inplace=True)\n",
    "anime_df.dropna(inplace=True)\n",
    "\n",
    "merged_anime_reviews_df.isnull().sum()"
   ]
  },
  {
   "cell_type": "code",
   "execution_count": null,
   "metadata": {},
   "outputs": [],
   "source": [
    "anime_df.isnull().sum()"
   ]
  },
  {
   "attachments": {},
   "cell_type": "markdown",
   "metadata": {},
   "source": [
    "1.4 Duplicate Data"
   ]
  },
  {
   "cell_type": "code",
   "execution_count": null,
   "metadata": {},
   "outputs": [],
   "source": [
    "# remove duplicated rows where the same user has rated the same anime again\n",
    "duplicate = merged_anime_reviews_df.duplicated(subset=['anime_uid','user_id']).sum()\n",
    "print('There are {} duplicated rows in merged_anime_reviews_df'.format(duplicate))\n",
    "\n",
    "duplicate = anime_df.duplicated().sum()\n",
    "print('There are {} duplicated rows in anime_df'.format(duplicate))"
   ]
  },
  {
   "cell_type": "code",
   "execution_count": null,
   "metadata": {},
   "outputs": [],
   "source": [
    "merged_anime_reviews_df.drop_duplicates(subset=['anime_uid','user_id'],inplace=True)\n",
    "anime_df.drop_duplicates(inplace=True)\n",
    "\n",
    "#checking to see if duplicates have been removed\n",
    "duplicate = merged_anime_reviews_df.duplicated(subset=['anime_uid','user_id']).sum()\n",
    "print('There are {} duplicated rows in merged_anime_reviews_df'.format(duplicate))\n",
    "\n",
    "duplicate = anime_df.duplicated().sum()\n",
    "print('There are {} duplicated rows in anime_df'.format(duplicate))"
   ]
  },
  {
   "attachments": {},
   "cell_type": "markdown",
   "metadata": {},
   "source": [
    "1.5 Indexing"
   ]
  },
  {
   "cell_type": "code",
   "execution_count": null,
   "metadata": {},
   "outputs": [],
   "source": [
    "merged_anime_reviews_df.shape"
   ]
  },
  {
   "cell_type": "code",
   "execution_count": null,
   "metadata": {},
   "outputs": [],
   "source": [
    "# we see that the indexes for the last 4 entries range from 317475-317478, but there are only 129263 \n",
    "# entries so the indexes need to be reset\n",
    "merged_anime_reviews_df.reset_index(drop=True,inplace=True)\n",
    "\n",
    "# dropping last row due to several NaN values\n",
    "merged_anime_reviews_df.drop(merged_anime_reviews_df.tail(1).index, inplace=True)\n",
    "\n",
    "merged_anime_reviews_df.tail()"
   ]
  },
  {
   "cell_type": "code",
   "execution_count": null,
   "metadata": {},
   "outputs": [],
   "source": [
    "merged_anime_reviews_df.dtypes"
   ]
  },
  {
   "cell_type": "code",
   "execution_count": null,
   "metadata": {},
   "outputs": [],
   "source": [
    "# convert rating scores from object to int\n",
    "merged_anime_reviews_df[['Overall', 'Story', 'Animation', 'Sound', 'Character', 'Enjoyment']] = merged_anime_reviews_df[\n",
    "    ['Overall', 'Story', 'Animation', 'Sound', 'Character', 'Enjoyment']].apply(pd.to_numeric)\n",
    "\n",
    "merged_anime_reviews_df.dtypes"
   ]
  },
  {
   "cell_type": "code",
   "execution_count": null,
   "metadata": {},
   "outputs": [],
   "source": [
    "categorical_df = merged_anime_reviews_df.select_dtypes('object')\n",
    "numerical_df = merged_anime_reviews_df.select_dtypes('number')\n",
    "\n",
    "categorical_df.head()"
   ]
  },
  {
   "cell_type": "markdown",
   "metadata": {},
   "source": [
    "Categorical data"
   ]
  },
  {
   "cell_type": "code",
   "execution_count": null,
   "metadata": {},
   "outputs": [],
   "source": [
    "genre_dummy_df = pd.get_dummies(categorical_df[['genre1', 'genre2', 'genre3', 'genre4', 'genre5']])\n",
    "genre_dummy_df.reset_index(drop=True,inplace=True)\n",
    "\n",
    "genre_dummy_df.head()"
   ]
  },
  {
   "cell_type": "markdown",
   "metadata": {},
   "source": [
    "Numerical data "
   ]
  },
  {
   "cell_type": "code",
   "execution_count": null,
   "metadata": {},
   "outputs": [],
   "source": [
    "numerical_df.head()"
   ]
  },
  {
   "cell_type": "code",
   "execution_count": null,
   "metadata": {},
   "outputs": [],
   "source": [
    "ratings_df = pd.DataFrame().assign(Overall=merged_anime_reviews_df['Overall'], Story=merged_anime_reviews_df['Story']\n",
    ", Animation=merged_anime_reviews_df['Animation'], Sound=merged_anime_reviews_df['Sound'], Character=merged_anime_reviews_df['Character']\n",
    ", Enjoyment=merged_anime_reviews_df['Enjoyment'])\n",
    "\n",
    "ratings_df.head()"
   ]
  },
  {
   "cell_type": "code",
   "execution_count": null,
   "metadata": {},
   "outputs": [],
   "source": [
    "numerical_df.drop(['user_id', 'Overall', 'Story', 'Animation', 'Sound', 'Character', 'Enjoyment'], axis=1, inplace=True)\n",
    "numerical_df.set_index('anime_uid', inplace=True)\n",
    "\n",
    "numerical_df.head()"
   ]
  },
  {
   "attachments": {},
   "cell_type": "markdown",
   "metadata": {},
   "source": [
    "1.8 Feature Scaling"
   ]
  },
  {
   "attachments": {},
   "cell_type": "markdown",
   "metadata": {},
   "source": [
    "The dataset consists of features that have a very large range, in particular the numerical features. Examples of this will be shown below.\n",
    "\n",
    "In order for the machine learning models to interpret these features on the same scale, feature scaling will be necessary."
   ]
  },
  {
   "cell_type": "code",
   "execution_count": null,
   "metadata": {},
   "outputs": [],
   "source": [
    "numerical_df.head()"
   ]
  },
  {
   "cell_type": "markdown",
   "metadata": {},
   "source": [
    "create a different ratings table -> do not include in feature scaling\n",
    "\n",
    "when creating clustering dataframe, have catergorical and numerical df as in the kaggle thing, then append the ratings dataframe afterwards\n",
    "so the ratings are preserved."
   ]
  },
  {
   "attachments": {},
   "cell_type": "markdown",
   "metadata": {},
   "source": [
    "1.8.1 Scaling"
   ]
  },
  {
   "cell_type": "code",
   "execution_count": null,
   "metadata": {},
   "outputs": [],
   "source": [
    "from sklearn.preprocessing import StandardScaler\n",
    "\n",
    "scaler = StandardScaler()\n",
    "scaled_numerical_df = pd.DataFrame(scaler.fit_transform(numerical_df),columns=numerical_df.columns)\n",
    "\n",
    "scaled_numerical_df.head()"
   ]
  },
  {
   "cell_type": "code",
   "execution_count": null,
   "metadata": {},
   "outputs": [],
   "source": [
    "complete_clusering_df = pd.concat([scaled_numerical_df, genre_dummy_df, ratings_df], axis = 1)\n",
    "\n",
    "complete_clusering_df.head()"
   ]
  },
  {
   "cell_type": "code",
   "execution_count": null,
   "metadata": {},
   "outputs": [],
   "source": [
    "complete_clusering_df.shape"
   ]
  },
  {
   "cell_type": "markdown",
   "metadata": {},
   "source": [
    "2.0 Content-based filtering -> Clustering on anime features"
   ]
  },
  {
   "cell_type": "code",
   "execution_count": null,
   "metadata": {},
   "outputs": [],
   "source": [
    "# compute the number of clusters to use\n",
    "sse = [] #sum of squared errors\n",
    "\n",
    "# silhouette scores range from -1 to 1: \n",
    "# 1 = points are perfectly assigned in a clsuter and clusters are easily distinguishable\n",
    "# 0 = clusters are overlapping\n",
    "# -1 = points are wrongly assigned in a cluster\n",
    "\n",
    "silhouette_coefficients = []\n",
    "\n",
    "# takes just over 20mins to execute\n",
    "for k in range(2, 11):\n",
    "    kmeans = KMeans(n_clusters = k, n_init = 10) #max_iter = 100\n",
    "    kmeans.fit(complete_clusering_df)\n",
    "    sse.append(kmeans.inertia_)\n",
    "\n",
    "    ss = silhouette_score(complete_clusering_df, kmeans.labels_)\n",
    "    silhouette_coefficients.append(ss)"
   ]
  },
  {
   "cell_type": "code",
   "execution_count": null,
   "metadata": {},
   "outputs": [],
   "source": [
    "print(\"SSE: \", sse)\n",
    "print(\"Silhouette scores: \", silhouette_coefficients)"
   ]
  },
  {
   "cell_type": "markdown",
   "metadata": {},
   "source": [
    "2.1 The Elbow Method"
   ]
  },
  {
   "cell_type": "code",
   "execution_count": null,
   "metadata": {},
   "outputs": [],
   "source": [
    "# plot sse scores\n",
    "plt.plot(range(2, 11), sse)\n",
    "plt.xticks(range(2, 11))\n",
    "plt.xlabel(\"Number of Clusters\")\n",
    "plt.ylabel(\"SSE\")\n",
    "plt.show()"
   ]
  },
  {
   "cell_type": "markdown",
   "metadata": {},
   "source": [
    "2.2 Silhouette Score"
   ]
  },
  {
   "cell_type": "code",
   "execution_count": null,
   "metadata": {},
   "outputs": [],
   "source": [
    "plt.plot(range(2, 11), silhouette_coefficients)\n",
    "plt.xticks(range(2, 11))\n",
    "plt.xlabel(\"Number of Clusters\")\n",
    "plt.ylabel(\"Silhouette coefficients\")\n",
    "plt.show()"
   ]
  },
  {
   "attachments": {},
   "cell_type": "markdown",
   "metadata": {},
   "source": [
    "Using both the graphs generated using the Elbow method and the Silhouette scores to determine K, \n",
    "we see that the elbow point seems to be at when k = 4, and the silhouette_score rapidly decreases after k = 4.\n",
    "\n",
    "Therefore, the number of the clusters that will be used is k = 4."
   ]
  },
  {
   "cell_type": "code",
   "execution_count": null,
   "metadata": {},
   "outputs": [],
   "source": [
    "clusters = KMeans(n_clusters=4, n_init = 10)\n",
    "clusters.fit(complete_clusering_df)\n",
    "\n",
    "merged_anime_reviews_df['Cluster'] = clusters.labels_\n",
    "merged_anime_reviews_df.head()\n",
    "\n",
    "# complete_clusering_df['Cluster'] = clusters.labels_\n",
    "# complete_clusering_df.head()"
   ]
  },
  {
   "cell_type": "code",
   "execution_count": null,
   "metadata": {},
   "outputs": [],
   "source": [
    "merged_anime_reviews_df.Cluster.value_counts()\n",
    "# complete_clusering_df.Cluster.value_counts()"
   ]
  },
  {
   "cell_type": "code",
   "execution_count": null,
   "metadata": {},
   "outputs": [],
   "source": [
    "# cluster0 = complete_clusering_df[complete_clusering_df['Cluster'] == 0].drop('Cluster',axis=1).mean()\n",
    "# cluster0.sort_values(ascending=False)[0:15]"
   ]
  }
 ],
 "metadata": {
  "kernelspec": {
   "display_name": "ML",
   "language": "python",
   "name": "python3"
  },
  "language_info": {
   "codemirror_mode": {
    "name": "ipython",
    "version": 3
   },
   "file_extension": ".py",
   "mimetype": "text/x-python",
   "name": "python",
   "nbconvert_exporter": "python",
   "pygments_lexer": "ipython3",
   "version": "3.9.16"
  },
  "orig_nbformat": 4,
  "vscode": {
   "interpreter": {
    "hash": "bd13d575caf8b70215954cabbb125610f9a3fd956dffe94b396ea02dd8e04b1c"
   }
  }
 },
 "nbformat": 4,
 "nbformat_minor": 2
}
